{
 "cells": [
  {
   "cell_type": "code",
   "execution_count": 1,
   "id": "01ec2395",
   "metadata": {},
   "outputs": [],
   "source": [
    "from pyspark import SparkContext\n",
    "from pyspark.sql import SparkSession\n",
    "from pyspark.sql.types import StructType, StructField, IntegerType, StringType, FloatType\n",
    "from pyspark.sql.types import Row\n",
    "from pyspark.sql import SQLContext\n",
    "from pyspark.sql.functions import *"
   ]
  },
  {
   "cell_type": "markdown",
   "id": "002eca38",
   "metadata": {},
   "source": [
    "# Project\n",
    "## Start sessions"
   ]
  },
  {
   "cell_type": "code",
   "execution_count": 2,
   "id": "84c5cc7a",
   "metadata": {},
   "outputs": [
    {
     "name": "stdout",
     "output_type": "stream",
     "text": [
      "23/04/11 06:52:22 WARN Utils: Your hostname, PRRS-DCARVAJAL resolves to a loopback address: 127.0.1.1; using 172.30.122.149 instead (on interface eth0)\n",
      "23/04/11 06:52:22 WARN Utils: Set SPARK_LOCAL_IP if you need to bind to another address\n"
     ]
    },
    {
     "name": "stderr",
     "output_type": "stream",
     "text": [
      "Setting default log level to \"WARN\".\n",
      "To adjust logging level use sc.setLogLevel(newLevel). For SparkR, use setLogLevel(newLevel).\n"
     ]
    },
    {
     "name": "stdout",
     "output_type": "stream",
     "text": [
      "23/04/11 06:52:23 WARN NativeCodeLoader: Unable to load native-hadoop library for your platform... using builtin-java classes where applicable\n"
     ]
    },
    {
     "name": "stderr",
     "output_type": "stream",
     "text": [
      "/home/daielchom/spark/python/pyspark/sql/context.py:112: FutureWarning: Deprecated in 3.0.0. Use SparkSession.builder.getOrCreate() instead.\n",
      "  warnings.warn(\n"
     ]
    }
   ],
   "source": [
    "spark = SparkContext(master='local', appName='dataframes')\n",
    "sql = SQLContext(spark)"
   ]
  },
  {
   "cell_type": "markdown",
   "id": "41cf820f",
   "metadata": {},
   "source": [
    "## Load data"
   ]
  },
  {
   "cell_type": "code",
   "execution_count": 3,
   "id": "7eab91a3",
   "metadata": {},
   "outputs": [
    {
     "name": "stdout",
     "output_type": "stream",
     "text": [
      "deporte.csv      deportistaError.csv  \u001b[0m\u001b[01;35mmodelo_relacional.jpg\u001b[0m\r\n",
      "deportista.csv   evento.csv           paises.csv\r\n",
      "deportista2.csv  juegos.csv           resultados.csv\r\n"
     ]
    }
   ],
   "source": [
    "ls ./files/"
   ]
  },
  {
   "cell_type": "code",
   "execution_count": 4,
   "id": "da7efbeb",
   "metadata": {},
   "outputs": [],
   "source": [
    "path = './files/'"
   ]
  },
  {
   "cell_type": "code",
   "execution_count": 5,
   "id": "c4b7e8ea",
   "metadata": {},
   "outputs": [],
   "source": [
    "def remove_header(index, iterator):\n",
    "    return iter(list(iterator)[1:])"
   ]
  },
  {
   "cell_type": "code",
   "execution_count": 6,
   "id": "2185497e",
   "metadata": {},
   "outputs": [
    {
     "name": "stderr",
     "output_type": "stream",
     "text": [
      "\r",
      "[Stage 0:>                                                          (0 + 1) / 1]\r"
     ]
    },
    {
     "name": "stdout",
     "output_type": "stream",
     "text": [
      "+----------+-------------+\n",
      "|deporte_id|      deporte|\n",
      "+----------+-------------+\n",
      "|         1|   Basketball|\n",
      "|         2|         Judo|\n",
      "|         3|     Football|\n",
      "|         4|   Tug-Of-War|\n",
      "|         5|Speed Skating|\n",
      "+----------+-------------+\n",
      "only showing top 5 rows\n",
      "\n"
     ]
    },
    {
     "name": "stderr",
     "output_type": "stream",
     "text": [
      "\r",
      "                                                                                \r"
     ]
    }
   ],
   "source": [
    "# deporte.csv\n",
    "deporte_rdd = spark.textFile(path+'deporte.csv').map(lambda l:l.split(','))\n",
    "deporte_rdd = deporte_rdd.mapPartitionsWithIndex(remove_header)\n",
    "deporte_rdd = deporte_rdd.map(lambda l:(int(l[0]), l[1]))\n",
    "schema = StructType([StructField('deporte_id', IntegerType(),False), StructField('deporte', StringType(),False)])\n",
    "deporte_df = sql.createDataFrame(deporte_rdd, schema)\n",
    "deporte_df.show(5)"
   ]
  },
  {
   "cell_type": "code",
   "execution_count": 7,
   "id": "7bd6fd63",
   "metadata": {},
   "outputs": [
    {
     "name": "stdout",
     "output_type": "stream",
     "text": [
      "+---------+--------------------+----------+\n",
      "|evento_id|              evento|deporte_id|\n",
      "+---------+--------------------+----------+\n",
      "|        1|Basketball Men's ...|         1|\n",
      "|        2|Judo Men's Extra-...|         2|\n",
      "|        3|Football Men's Fo...|         3|\n",
      "|        4|Tug-Of-War Men's ...|         4|\n",
      "|        5|Speed Skating Wom...|         5|\n",
      "+---------+--------------------+----------+\n",
      "only showing top 5 rows\n",
      "\n"
     ]
    }
   ],
   "source": [
    "# evento.csv\n",
    "schema = StructType([StructField('evento_id', IntegerType(),False), StructField('evento', StringType(),False),  StructField('deporte_id', IntegerType(),False)])\n",
    "evento_df = sql.read.schema(schema).option('header','true').csv(path+'/evento.csv')\n",
    "evento_df.show(5)"
   ]
  },
  {
   "cell_type": "code",
   "execution_count": 8,
   "id": "26ae0c04",
   "metadata": {},
   "outputs": [
    {
     "name": "stdout",
     "output_type": "stream",
     "text": [
      "23/04/11 06:52:35 WARN CSVHeaderChecker: Number of column in CSV header is not equal to number of fields in the schema:\n",
      " Header length: 5, schema size: 4\n",
      "CSV file: file:///home/daielchom/projects/spark_notebooks/files/juegos.csv\n",
      "+--------+-----------+---------+------+\n",
      "|juego_id|      annio|temporada|ciudad|\n",
      "+--------+-----------+---------+------+\n",
      "|       1|1896 Verano|     1896|Verano|\n",
      "|       2|1900 Verano|     1900|Verano|\n",
      "|       3|1904 Verano|     1904|Verano|\n",
      "|       4|1906 Verano|     1906|Verano|\n",
      "|       5|1908 Verano|     1908|Verano|\n",
      "+--------+-----------+---------+------+\n",
      "only showing top 5 rows\n",
      "\n"
     ]
    }
   ],
   "source": [
    "# juegos.csv\n",
    "schema = StructType([StructField('juego_id', IntegerType(),False),\n",
    "                          StructField('annio', StringType(),False),\n",
    "                          StructField('temporada', StringType(),False),\n",
    "                          StructField('ciudad', StringType(),False)])\n",
    "juegos_df = sql.read.schema(schema).option('header','true').csv(path+'/juegos.csv')\n",
    "juegos_df.show(5)"
   ]
  },
  {
   "cell_type": "code",
   "execution_count": 9,
   "id": "51b29a61",
   "metadata": {},
   "outputs": [
    {
     "name": "stdout",
     "output_type": "stream",
     "text": [
      "23/04/11 06:52:36 WARN CSVHeaderChecker: CSV header does not conform to the schema.\n",
      " Header: id, equipo, sigla\n",
      " Schema: paises_id, equipo, sigla\n",
      "Expected: paises_id but found: id\n",
      "CSV file: file:///home/daielchom/projects/spark_notebooks/files/paises.csv\n",
      "+---------+--------------------+-----+\n",
      "|paises_id|              equipo|sigla|\n",
      "+---------+--------------------+-----+\n",
      "|        1|         30. Februar|  AUT|\n",
      "|        2|A North American ...|  MEX|\n",
      "|        3|           Acipactli|  MEX|\n",
      "|        4|             Acturus|  ARG|\n",
      "|        5|         Afghanistan|  AFG|\n",
      "+---------+--------------------+-----+\n",
      "only showing top 5 rows\n",
      "\n"
     ]
    }
   ],
   "source": [
    "# paises.csv\n",
    "schema = StructType([StructField(\"paises_id\", IntegerType(), False), StructField(\"equipo\", StringType(), False), StructField(\"sigla\", StringType(), False)])\n",
    "paises_df = sql.read.schema(schema).option('header','true').csv(path+'/paises.csv')\n",
    "paises_df.show(5)"
   ]
  },
  {
   "cell_type": "code",
   "execution_count": 10,
   "id": "f972b72d",
   "metadata": {},
   "outputs": [
    {
     "name": "stdout",
     "output_type": "stream",
     "text": [
      "+------------+-------+-------------+--------+---------+\n",
      "|resultado_id|medalla|deportista_id|juego_id|evento_id|\n",
      "+------------+-------+-------------+--------+---------+\n",
      "|           1|     NA|            1|      39|        1|\n",
      "|           2|     NA|            2|      49|        2|\n",
      "|           3|     NA|            3|       7|        3|\n",
      "|           4|   Gold|            4|       2|        4|\n",
      "|           5|     NA|            5|      36|        5|\n",
      "+------------+-------+-------------+--------+---------+\n",
      "only showing top 5 rows\n",
      "\n"
     ]
    }
   ],
   "source": [
    "# resultados.csv\n",
    "schema = StructType([StructField(\"resultado_id\", IntegerType(), False), StructField(\"medalla\", StringType(), False), StructField(\"deportista_id\", IntegerType(), False), StructField(\"juego_id\", IntegerType(), False), StructField(\"evento_id\", IntegerType(), False)])\n",
    "resultados_df = sql.read.schema(schema).option('header','true').csv(path+'/resultados.csv')\n",
    "resultados_df.show(5)"
   ]
  },
  {
   "cell_type": "code",
   "execution_count": 11,
   "id": "1e1747e9",
   "metadata": {},
   "outputs": [
    {
     "name": "stdout",
     "output_type": "stream",
     "text": [
      "+-------------+--------------------+------+----+------+----+---------+\n",
      "|deportista_id|              nombre|genero|edad|altura|peso|equipo_id|\n",
      "+-------------+--------------------+------+----+------+----+---------+\n",
      "|            1|           A Dijiang|     1|  24|   180|  80|      199|\n",
      "|            2|            A Lamusi|     1|  23|   170|  60|      199|\n",
      "|            3| Gunnar Nielsen Aaby|     1|  24|     0|   0|      273|\n",
      "|            4|Edgar Lindenau Aabye|     1|  34|     0|   0|      278|\n",
      "|            5|Christine Jacoba ...|     2|  21|   185|  82|      705|\n",
      "+-------------+--------------------+------+----+------+----+---------+\n",
      "only showing top 5 rows\n",
      "\n"
     ]
    }
   ],
   "source": [
    "# deportista.csv\n",
    "schema = StructType([StructField(\"deportista_id\", IntegerType(), False), StructField(\"nombre\", StringType(), False), StructField(\"genero\", IntegerType(), False), StructField(\"edad\", IntegerType(), False), StructField(\"altura\", IntegerType(), False), StructField(\"peso\", IntegerType(), False), StructField(\"equipo_id\", IntegerType(), False)])\n",
    "df1 = sql.read.schema(schema).option('header','true').csv(path+'/deportista.csv')\n",
    "df2 = sql.read.schema(schema).option('header','true').csv(path+'/deportista2.csv')\n",
    "deportista_df = df1.union(df2)\n",
    "deportista_df.show(5)"
   ]
  },
  {
   "cell_type": "markdown",
   "id": "22fdf8e5",
   "metadata": {},
   "source": [
    "## Explore"
   ]
  },
  {
   "cell_type": "code",
   "execution_count": 12,
   "id": "4f0cea88",
   "metadata": {},
   "outputs": [
    {
     "name": "stdout",
     "output_type": "stream",
     "text": [
      "root\n",
      " |-- deporte_id: integer (nullable = false)\n",
      " |-- deporte: string (nullable = false)\n",
      "\n"
     ]
    }
   ],
   "source": [
    "deporte_df.printSchema()"
   ]
  },
  {
   "cell_type": "code",
   "execution_count": 13,
   "id": "4565de93",
   "metadata": {},
   "outputs": [
    {
     "name": "stdout",
     "output_type": "stream",
     "text": [
      "root\n",
      " |-- deportista_id: integer (nullable = true)\n",
      " |-- nombre: string (nullable = true)\n",
      " |-- genero: integer (nullable = true)\n",
      " |-- edad: integer (nullable = true)\n",
      " |-- altura: integer (nullable = true)\n",
      " |-- peso: integer (nullable = true)\n",
      " |-- equipo_id: integer (nullable = true)\n",
      "\n"
     ]
    }
   ],
   "source": [
    "deportista_df.printSchema()"
   ]
  },
  {
   "cell_type": "code",
   "execution_count": 14,
   "id": "661314f8",
   "metadata": {},
   "outputs": [],
   "source": [
    "deportista_df = deportista_df.withColumnRenamed('genero', 'sexo').drop('altura')"
   ]
  },
  {
   "cell_type": "code",
   "execution_count": 15,
   "id": "541b4194",
   "metadata": {},
   "outputs": [
    {
     "name": "stdout",
     "output_type": "stream",
     "text": [
      "root\n",
      " |-- deportista_id: integer (nullable = true)\n",
      " |-- nombre: string (nullable = true)\n",
      " |-- sexo: integer (nullable = true)\n",
      " |-- edad: integer (nullable = true)\n",
      " |-- peso: integer (nullable = true)\n",
      " |-- equipo_id: integer (nullable = true)\n",
      "\n"
     ]
    }
   ],
   "source": [
    "deportista_df.printSchema()"
   ]
  },
  {
   "cell_type": "code",
   "execution_count": 16,
   "id": "a57bfbb8",
   "metadata": {},
   "outputs": [],
   "source": [
    "deportista_df = deportista_df.select('deportista_id','nombre', col('edad').alias('edad_al_jugar'), 'equipo_id')"
   ]
  },
  {
   "cell_type": "code",
   "execution_count": 17,
   "id": "1cc33742",
   "metadata": {},
   "outputs": [
    {
     "name": "stdout",
     "output_type": "stream",
     "text": [
      "+-------------+--------------------+-------------+---------+\n",
      "|deportista_id|              nombre|edad_al_jugar|equipo_id|\n",
      "+-------------+--------------------+-------------+---------+\n",
      "|            1|           A Dijiang|           24|      199|\n",
      "|            2|            A Lamusi|           23|      199|\n",
      "|            3| Gunnar Nielsen Aaby|           24|      273|\n",
      "|            4|Edgar Lindenau Aabye|           34|      278|\n",
      "|            5|Christine Jacoba ...|           21|      705|\n",
      "+-------------+--------------------+-------------+---------+\n",
      "only showing top 5 rows\n",
      "\n"
     ]
    }
   ],
   "source": [
    "deportista_df.show(5)"
   ]
  },
  {
   "cell_type": "code",
   "execution_count": 18,
   "id": "c85f0ae5",
   "metadata": {},
   "outputs": [
    {
     "name": "stderr",
     "output_type": "stream",
     "text": [
      "\r",
      "[Stage 7:>                                                          (0 + 1) / 2]\r",
      "\r",
      "[Stage 7:=============================>                             (1 + 1) / 2]\r"
     ]
    },
    {
     "name": "stdout",
     "output_type": "stream",
     "text": [
      "23/04/10 05:53:38 WARN CSVHeaderChecker: CSV header does not conform to the schema.\n",
      " Header: 67787, Lee BongJu, 27, 970\n",
      " Schema: deportista_id, nombre, edad, equipo_id\n",
      "Expected: deportista_id but found: 67787\n",
      "CSV file: file:///home/daielchom/projects/spark_notebooks/files/deportista2.csv\n",
      "+-------------+--------------------+-------------+---------+\n",
      "|deportista_id|              nombre|edad_al_jugar|equipo_id|\n",
      "+-------------+--------------------+-------------+---------+\n",
      "|          133|           Franz Abb|            0|      399|\n",
      "|          167|Ould Lamine Abdallah|            0|      362|\n",
      "|           66|     Mohamed Abakkar|            0|     1003|\n",
      "|          163|     Ismail Abdallah|            0|     1095|\n",
      "|          139|George Ioannis Abbot|            0|     1043|\n",
      "+-------------+--------------------+-------------+---------+\n",
      "only showing top 5 rows\n",
      "\n"
     ]
    },
    {
     "name": "stderr",
     "output_type": "stream",
     "text": [
      "\r",
      "                                                                                \r"
     ]
    }
   ],
   "source": [
    "deportista_df.sort('edad_al_jugar').show(5)"
   ]
  },
  {
   "cell_type": "code",
   "execution_count": 19,
   "id": "31ff735c",
   "metadata": {},
   "outputs": [
    {
     "name": "stdout",
     "output_type": "stream",
     "text": [
      "23/04/10 05:53:39 WARN CSVHeaderChecker: CSV header does not conform to the schema.\n",
      " Header: 67787, Lee BongJu, 27, 970\n",
      " Schema: deportista_id, nombre, edad, equipo_id\n",
      "Expected: deportista_id but found: 67787\n",
      "CSV file: file:///home/daielchom/projects/spark_notebooks/files/deportista2.csv\n"
     ]
    },
    {
     "name": "stderr",
     "output_type": "stream",
     "text": [
      "\r",
      "[Stage 8:=============================>                             (1 + 1) / 2]\r",
      "\r",
      "                                                                                \r"
     ]
    },
    {
     "name": "stdout",
     "output_type": "stream",
     "text": [
      "+-------------+--------------------+-------------+---------+\n",
      "|deportista_id|              nombre|edad_al_jugar|equipo_id|\n",
      "+-------------+--------------------+-------------+---------+\n",
      "|        71691|  Dimitrios Loundras|           10|      333|\n",
      "|        52070|        Etsuko Inada|           11|      514|\n",
      "|        40129|    Luigina Giavotti|           11|      507|\n",
      "|        37333|Carlos Bienvenido...|           11|      982|\n",
      "|        47618|Sonja Henie Toppi...|           11|      742|\n",
      "+-------------+--------------------+-------------+---------+\n",
      "only showing top 5 rows\n",
      "\n"
     ]
    }
   ],
   "source": [
    "deportista_df = deportista_df.filter(deportista_df.edad_al_jugar!=0)\n",
    "deportista_df.sort('edad_al_jugar').show(5)"
   ]
  },
  {
   "cell_type": "markdown",
   "id": "f585dd46",
   "metadata": {},
   "source": [
    "### Class 16"
   ]
  },
  {
   "cell_type": "code",
   "execution_count": 20,
   "id": "813aab94",
   "metadata": {},
   "outputs": [
    {
     "name": "stdout",
     "output_type": "stream",
     "text": [
      "root\n",
      " |-- deportista_id: integer (nullable = true)\n",
      " |-- nombre: string (nullable = true)\n",
      " |-- edad_al_jugar: integer (nullable = true)\n",
      " |-- equipo_id: integer (nullable = true)\n",
      "\n"
     ]
    }
   ],
   "source": [
    "deportista_df.printSchema()"
   ]
  },
  {
   "cell_type": "code",
   "execution_count": 21,
   "id": "3eae3ea2",
   "metadata": {},
   "outputs": [
    {
     "name": "stdout",
     "output_type": "stream",
     "text": [
      "root\n",
      " |-- resultado_id: integer (nullable = true)\n",
      " |-- medalla: string (nullable = true)\n",
      " |-- deportista_id: integer (nullable = true)\n",
      " |-- juego_id: integer (nullable = true)\n",
      " |-- evento_id: integer (nullable = true)\n",
      "\n"
     ]
    }
   ],
   "source": [
    "resultados_df.printSchema()"
   ]
  },
  {
   "cell_type": "code",
   "execution_count": 22,
   "id": "3e334639",
   "metadata": {},
   "outputs": [
    {
     "name": "stdout",
     "output_type": "stream",
     "text": [
      "root\n",
      " |-- juego_id: integer (nullable = true)\n",
      " |-- annio: string (nullable = true)\n",
      " |-- temporada: string (nullable = true)\n",
      " |-- ciudad: string (nullable = true)\n",
      "\n"
     ]
    }
   ],
   "source": [
    "juegos_df.printSchema()"
   ]
  },
  {
   "cell_type": "code",
   "execution_count": 24,
   "id": "5dd443d7",
   "metadata": {},
   "outputs": [
    {
     "name": "stdout",
     "output_type": "stream",
     "text": [
      "root\n",
      " |-- deporte_id: integer (nullable = false)\n",
      " |-- deporte: string (nullable = false)\n",
      "\n"
     ]
    }
   ],
   "source": [
    "deporte_df.printSchema()"
   ]
  },
  {
   "cell_type": "code",
   "execution_count": 31,
   "id": "aeb5353a",
   "metadata": {},
   "outputs": [
    {
     "name": "stderr",
     "output_type": "stream",
     "text": [
      "\r",
      "[Stage 10:>   (0 + 1) / 1][Stage 11:>   (0 + 0) / 1][Stage 12:>   (0 + 0) / 1]\r",
      "\r",
      "                                                                                \r"
     ]
    },
    {
     "name": "stdout",
     "output_type": "stream",
     "text": [
      "23/04/10 06:03:44 WARN CSVHeaderChecker: CSV header does not conform to the schema.\n",
      " Header: , nombre_juego\n",
      " Schema: juego_id, annio\n",
      "Expected: juego_id but found: \n",
      "CSV file: file:///home/daielchom/projects/spark_notebooks/files/juegos.csv\n",
      "+--------------------+----+-------+-------------+--------------------+\n",
      "|              nombre|edad|medalla|        annio|           disiplina|\n",
      "+--------------------+----+-------+-------------+--------------------+\n",
      "|           A Dijiang|  24|     NA|  1992 Verano|Basketball Men's ...|\n",
      "|            A Lamusi|  23|     NA|  2012 Verano|Judo Men's Extra-...|\n",
      "| Gunnar Nielsen Aaby|  24|     NA|  1920 Verano|Football Men's Fo...|\n",
      "|Edgar Lindenau Aabye|  34|   Gold|  1900 Verano|Tug-Of-War Men's ...|\n",
      "|Christine Jacoba ...|  21|     NA|1994 Invierno|Speed Skating Wom...|\n",
      "|Christine Jacoba ...|  21|     NA|1994 Invierno|Speed Skating Wom...|\n",
      "|Christine Jacoba ...|  21|     NA|1992 Invierno|Speed Skating Wom...|\n",
      "|Christine Jacoba ...|  21|     NA|1992 Invierno|Speed Skating Wom...|\n",
      "|Christine Jacoba ...|  21|     NA|1988 Invierno|Speed Skating Wom...|\n",
      "|Christine Jacoba ...|  21|     NA|1988 Invierno|Speed Skating Wom...|\n",
      "|     Per Knut Aaland|  31|     NA|1994 Invierno|Cross Country Ski...|\n",
      "|     Per Knut Aaland|  31|     NA|1994 Invierno|Cross Country Ski...|\n",
      "|     Per Knut Aaland|  31|     NA|1994 Invierno|Cross Country Ski...|\n",
      "|     Per Knut Aaland|  31|     NA|1994 Invierno|Cross Country Ski...|\n",
      "|     Per Knut Aaland|  31|     NA|1992 Invierno|Cross Country Ski...|\n",
      "|     Per Knut Aaland|  31|     NA|1992 Invierno|Cross Country Ski...|\n",
      "|     Per Knut Aaland|  31|     NA|1992 Invierno|Cross Country Ski...|\n",
      "|     Per Knut Aaland|  31|     NA|1992 Invierno|Cross Country Ski...|\n",
      "|        John Aalberg|  31|     NA|1994 Invierno|Cross Country Ski...|\n",
      "|        John Aalberg|  31|     NA|1994 Invierno|Cross Country Ski...|\n",
      "+--------------------+----+-------+-------------+--------------------+\n",
      "only showing top 20 rows\n",
      "\n"
     ]
    }
   ],
   "source": [
    "deportista_df.join(\n",
    "    resultados_df,\n",
    "    deportista_df.deportista_id == resultados_df.deportista_id,\n",
    "    'left').join(\n",
    "    juegos_df,\n",
    "    juegos_df.juego_id == resultados_df.juego_id,\n",
    "    'left').join(\n",
    "    evento_df,\n",
    "    evento_df.evento_id == resultados_df.evento_id,\n",
    "    'left').select('nombre', 'edad', 'medalla', 'annio', evento_df.evento.alias('disiplina')).show()"
   ]
  },
  {
   "cell_type": "markdown",
   "id": "4e322f8d",
   "metadata": {},
   "source": [
    "### Class 17"
   ]
  },
  {
   "cell_type": "code",
   "execution_count": 34,
   "id": "9ce81fe2",
   "metadata": {},
   "outputs": [
    {
     "name": "stdout",
     "output_type": "stream",
     "text": [
      "23/04/10 06:08:29 WARN CSVHeaderChecker: CSV header does not conform to the schema.\n",
      " Header: id, equipo, sigla\n",
      " Schema: paises_id, equipo, sigla\n",
      "Expected: paises_id but found: id\n",
      "CSV file: file:///home/daielchom/projects/spark_notebooks/files/paises.csv\n",
      "23/04/10 06:08:29 WARN CSVHeaderChecker: CSV header does not conform to the schema.\n",
      " Header: 67787, 970\n",
      " Schema: deportista_id, equipo_id\n",
      "Expected: deportista_id but found: 67787\n",
      "CSV file: file:///home/daielchom/projects/spark_notebooks/files/deportista2.csv\n"
     ]
    },
    {
     "name": "stderr",
     "output_type": "stream",
     "text": [
      "\r",
      "[Stage 18:=============================>                            (1 + 1) / 2]\r",
      "\r",
      "                                                                                \r"
     ]
    },
    {
     "name": "stdout",
     "output_type": "stream",
     "text": [
      "+-------+--------+-----+\n",
      "|medalla|  equipo|sigla|\n",
      "+-------+--------+-----+\n",
      "|   Gold|Zimbabwe|  ZIM|\n",
      "|   Gold|Zimbabwe|  ZIM|\n",
      "|   Gold|Zimbabwe|  ZIM|\n",
      "| Silver|Zimbabwe|  ZIM|\n",
      "|   Gold|Zimbabwe|  ZIM|\n",
      "| Bronze|Zimbabwe|  ZIM|\n",
      "| Silver|Zimbabwe|  ZIM|\n",
      "|   Gold|Zimbabwe|  ZIM|\n",
      "| Silver|Zimbabwe|  ZIM|\n",
      "| Silver|Zimbabwe|  ZIM|\n",
      "|   Gold|Zimbabwe|  ZIM|\n",
      "|   Gold|Zimbabwe|  ZIM|\n",
      "|   Gold|Zimbabwe|  ZIM|\n",
      "|   Gold|Zimbabwe|  ZIM|\n",
      "|   Gold|Zimbabwe|  ZIM|\n",
      "|   Gold|Zimbabwe|  ZIM|\n",
      "|   Gold|Zimbabwe|  ZIM|\n",
      "|   Gold|Zimbabwe|  ZIM|\n",
      "|   Gold|Zimbabwe|  ZIM|\n",
      "|   Gold|Zimbabwe|  ZIM|\n",
      "+-------+--------+-----+\n",
      "only showing top 20 rows\n",
      "\n"
     ]
    },
    {
     "name": "stderr",
     "output_type": "stream",
     "text": [
      "\r",
      "[Stage 19:>                                                         (0 + 1) / 1]\r",
      "\r",
      "                                                                                \r"
     ]
    }
   ],
   "source": [
    "resultados_df.filter(resultados_df.medalla!='NA').join(\n",
    "    deportista_df,\n",
    "    deportista_df.deportista_id == resultados_df.deportista_id,\n",
    "    'left').join(\n",
    "    paises_df,\n",
    "    paises_df.paises_id == deportista_df.equipo_id,\n",
    "    'left').select('medalla', 'equipo', 'sigla').sort(col('sigla').desc()).show()"
   ]
  },
  {
   "cell_type": "markdown",
   "id": "b3c8471a",
   "metadata": {},
   "source": [
    "### Class 18"
   ]
  },
  {
   "cell_type": "code",
   "execution_count": 12,
   "id": "1fbf585f",
   "metadata": {},
   "outputs": [
    {
     "name": "stderr",
     "output_type": "stream",
     "text": [
      "                                                                                \r"
     ]
    },
    {
     "name": "stdout",
     "output_type": "stream",
     "text": [
      "23/04/11 06:52:41 WARN CSVHeaderChecker: CSV header does not conform to the schema.\n",
      " Header: , nombre_juego\n",
      " Schema: juego_id, annio\n",
      "Expected: juego_id but found: \n",
      "CSV file: file:///home/daielchom/projects/spark_notebooks/files/juegos.csv\n",
      "23/04/11 06:52:41 WARN CSVHeaderChecker: CSV header does not conform to the schema.\n",
      " Header: id, sigla\n",
      " Schema: paises_id, sigla\n",
      "Expected: paises_id but found: id\n",
      "CSV file: file:///home/daielchom/projects/spark_notebooks/files/paises.csv\n",
      "+-----+-------------+-------+--------------------+--------------------+--------------------+\n",
      "|sigla|        annio|medalla|              evento|   Nombre disciplina|              nombre|\n",
      "+-----+-------------+-------+--------------------+--------------------+--------------------+\n",
      "|  CHN|  1992 Verano|     NA|Basketball Men's ...|          Basketball|           A Dijiang|\n",
      "|  CHN|  2012 Verano|     NA|Judo Men's Extra-...|                Judo|            A Lamusi|\n",
      "|  DEN|  1920 Verano|     NA|Football Men's Fo...|            Football| Gunnar Nielsen Aaby|\n",
      "|  SWE|  1900 Verano|   Gold|Tug-Of-War Men's ...|          Tug-Of-War|Edgar Lindenau Aabye|\n",
      "|  NED|1994 Invierno|     NA|Speed Skating Wom...|       Speed Skating|Christine Jacoba ...|\n",
      "|  NED|1994 Invierno|     NA|Speed Skating Wom...|       Speed Skating|Christine Jacoba ...|\n",
      "|  NED|1992 Invierno|     NA|Speed Skating Wom...|       Speed Skating|Christine Jacoba ...|\n",
      "|  NED|1992 Invierno|     NA|Speed Skating Wom...|       Speed Skating|Christine Jacoba ...|\n",
      "|  NED|1988 Invierno|     NA|Speed Skating Wom...|       Speed Skating|Christine Jacoba ...|\n",
      "|  NED|1988 Invierno|     NA|Speed Skating Wom...|       Speed Skating|Christine Jacoba ...|\n",
      "|  USA|1994 Invierno|     NA|Cross Country Ski...|Cross Country Skiing|     Per Knut Aaland|\n",
      "|  USA|1994 Invierno|     NA|Cross Country Ski...|Cross Country Skiing|     Per Knut Aaland|\n",
      "|  USA|1994 Invierno|     NA|Cross Country Ski...|Cross Country Skiing|     Per Knut Aaland|\n",
      "|  USA|1994 Invierno|     NA|Cross Country Ski...|Cross Country Skiing|     Per Knut Aaland|\n",
      "|  USA|1992 Invierno|     NA|Cross Country Ski...|Cross Country Skiing|     Per Knut Aaland|\n",
      "|  USA|1992 Invierno|     NA|Cross Country Ski...|Cross Country Skiing|     Per Knut Aaland|\n",
      "|  USA|1992 Invierno|     NA|Cross Country Ski...|Cross Country Skiing|     Per Knut Aaland|\n",
      "|  USA|1992 Invierno|     NA|Cross Country Ski...|Cross Country Skiing|     Per Knut Aaland|\n",
      "|  USA|1994 Invierno|     NA|Cross Country Ski...|Cross Country Skiing|        John Aalberg|\n",
      "|  USA|1994 Invierno|     NA|Cross Country Ski...|Cross Country Skiing|        John Aalberg|\n",
      "+-----+-------------+-------+--------------------+--------------------+--------------------+\n",
      "only showing top 20 rows\n",
      "\n"
     ]
    }
   ],
   "source": [
    "medallistaXAnio = deportista_df \\\n",
    "    .join(\n",
    "        resultados_df, \n",
    "        deportista_df.deportista_id == resultados_df.deportista_id, \n",
    "        \"left\"\n",
    "    ) \\\n",
    "    .join(\n",
    "        juegos_df, \n",
    "        juegos_df.juego_id == resultados_df.juego_id, \n",
    "        \"left\"\n",
    "    ) \\\n",
    "    .join(\n",
    "        paises_df, \n",
    "        deportista_df.equipo_id == paises_df.paises_id, \n",
    "        \"left\"\n",
    "    ) \\\n",
    "    .join(\n",
    "        evento_df, \n",
    "        evento_df.evento_id == resultados_df.evento_id, \n",
    "        \"left\"\n",
    "    ) \\\n",
    "    .join(\n",
    "        deporte_df, \n",
    "        evento_df.deporte_id == deporte_df.deporte_id, \n",
    "        \"left\"\n",
    "    ) \\\n",
    "    .select(\n",
    "        \"sigla\",\n",
    "        \"annio\",\n",
    "        \"medalla\",\n",
    "        'evento',\n",
    "        deporte_df.deporte.alias(\"Nombre disciplina\"),\n",
    "        deportista_df.nombre    \n",
    "    )\n",
    "\n",
    "medallistaXAnio.show()"
   ]
  },
  {
   "cell_type": "code",
   "execution_count": 49,
   "id": "0cd2aa9a",
   "metadata": {},
   "outputs": [],
   "source": [
    "medallista_annio = medallistaXAnio.filter(medallistaXAnio.medalla!='NA').sort('annio').groupBy('sigla','annio','evento').count()"
   ]
  },
  {
   "cell_type": "code",
   "execution_count": 50,
   "id": "87e12290",
   "metadata": {},
   "outputs": [
    {
     "name": "stdout",
     "output_type": "stream",
     "text": [
      "root\n",
      " |-- sigla: string (nullable = true)\n",
      " |-- annio: string (nullable = true)\n",
      " |-- evento: string (nullable = true)\n",
      " |-- count: long (nullable = false)\n",
      "\n"
     ]
    }
   ],
   "source": [
    "medallista_annio.printSchema()"
   ]
  },
  {
   "cell_type": "code",
   "execution_count": 52,
   "id": "967097a7",
   "metadata": {},
   "outputs": [
    {
     "name": "stdout",
     "output_type": "stream",
     "text": [
      "23/04/10 06:24:09 WARN CSVHeaderChecker: CSV header does not conform to the schema.\n",
      " Header: , nombre_juego\n",
      " Schema: juego_id, annio\n",
      "Expected: juego_id but found: \n",
      "CSV file: file:///home/daielchom/projects/spark_notebooks/files/juegos.csv\n",
      "23/04/10 06:24:09 WARN CSVHeaderChecker: CSV header does not conform to the schema.\n",
      " Header: id, sigla\n",
      " Schema: paises_id, sigla\n",
      "Expected: paises_id but found: id\n",
      "CSV file: file:///home/daielchom/projects/spark_notebooks/files/paises.csv\n",
      "23/04/10 06:24:09 WARN CSVHeaderChecker: CSV header does not conform to the schema.\n",
      " Header: 67787, 970\n",
      " Schema: deportista_id, equipo_id\n",
      "Expected: deportista_id but found: 67787\n",
      "CSV file: file:///home/daielchom/projects/spark_notebooks/files/deportista2.csv\n"
     ]
    },
    {
     "name": "stderr",
     "output_type": "stream",
     "text": [
      "\r",
      "[Stage 89:=========>        (1 + 1) / 2][Stage 91:>                 (0 + 0) / 1]\r",
      "\r",
      "                                                                                \r"
     ]
    },
    {
     "name": "stdout",
     "output_type": "stream",
     "text": [
      "+-----+-----------+--------------+------------------+\n",
      "|sigla|      annio|total medallas|      avg medallas|\n",
      "+-----+-----------+--------------+------------------+\n",
      "|  DEN|1896 Verano|             6|               1.0|\n",
      "|  FRA|1896 Verano|            11|             1.375|\n",
      "|  GER|1896 Verano|            32|2.6666666666666665|\n",
      "|  SUI|1896 Verano|             3|               1.0|\n",
      "|  HUN|1896 Verano|             6|               1.0|\n",
      "|  AUS|1896 Verano|             3|               1.0|\n",
      "|  GRE|1896 Verano|            48|1.6551724137931034|\n",
      "|  AUT|1896 Verano|             5|               1.0|\n",
      "|  USA|1896 Verano|            20|1.6666666666666667|\n",
      "|  GBR|1896 Verano|             9|             1.125|\n",
      "|  CAN|1900 Verano|             2|               1.0|\n",
      "|  CUB|1900 Verano|             2|               1.0|\n",
      "|  ITA|1900 Verano|             5|              1.25|\n",
      "|  ESP|1900 Verano|             2|               2.0|\n",
      "|  IND|1900 Verano|             2|               1.0|\n",
      "|  NED|1900 Verano|            26| 4.333333333333333|\n",
      "|  AUS|1900 Verano|             6|               1.0|\n",
      "|  AUT|1900 Verano|             6|               1.0|\n",
      "|  BOH|1900 Verano|             3|               1.0|\n",
      "|  MEX|1900 Verano|             4|               4.0|\n",
      "+-----+-----------+--------------+------------------+\n",
      "only showing top 20 rows\n",
      "\n"
     ]
    }
   ],
   "source": [
    "medallista_annio.groupBy('sigla', 'annio').agg(sum('count').alias('total medallas'), avg('count').alias('avg medallas')).sort('annio').show()"
   ]
  },
  {
   "cell_type": "markdown",
   "id": "82d54a1b",
   "metadata": {},
   "source": [
    "\n",
    "### Class 19"
   ]
  },
  {
   "cell_type": "code",
   "execution_count": 16,
   "id": "f0f820b1",
   "metadata": {},
   "outputs": [],
   "source": [
    "resultados_df.registerTempTable(\"resultado\")\n",
    "deportista_df.registerTempTable(\"deportista\")\n",
    "paises_df.registerTempTable(\"paises\")"
   ]
  },
  {
   "cell_type": "code",
   "execution_count": 18,
   "id": "a7cdec1b",
   "metadata": {},
   "outputs": [
    {
     "name": "stdout",
     "output_type": "stream",
     "text": [
      "+-------------+--------------------+------+----+------+----+---------+\n",
      "|deportista_id|              nombre|genero|edad|altura|peso|equipo_id|\n",
      "+-------------+--------------------+------+----+------+----+---------+\n",
      "|            1|           A Dijiang|     1|  24|   180|  80|      199|\n",
      "|            2|            A Lamusi|     1|  23|   170|  60|      199|\n",
      "|            3| Gunnar Nielsen Aaby|     1|  24|     0|   0|      273|\n",
      "|            4|Edgar Lindenau Aabye|     1|  34|     0|   0|      278|\n",
      "|            5|Christine Jacoba ...|     2|  21|   185|  82|      705|\n",
      "+-------------+--------------------+------+----+------+----+---------+\n",
      "only showing top 5 rows\n",
      "\n"
     ]
    }
   ],
   "source": [
    "sql.sql('SELECT * FROM deportista').show(5)"
   ]
  },
  {
   "cell_type": "code",
   "execution_count": 20,
   "id": "d350e967",
   "metadata": {
    "scrolled": true
   },
   "outputs": [
    {
     "name": "stdout",
     "output_type": "stream",
     "text": [
      "23/04/11 06:19:10 WARN CSVHeaderChecker: CSV header does not conform to the schema.\n",
      " Header: id, equipo, sigla\n",
      " Schema: paises_id, equipo, sigla\n",
      "Expected: paises_id but found: id\n",
      "CSV file: file:///home/daielchom/projects/spark_notebooks/files/paises.csv\n"
     ]
    },
    {
     "name": "stderr",
     "output_type": "stream",
     "text": [
      "\r",
      "[Stage 8:>                                                          (0 + 1) / 2]\r"
     ]
    },
    {
     "name": "stdout",
     "output_type": "stream",
     "text": [
      "23/04/11 06:19:12 WARN CSVHeaderChecker: CSV header does not conform to the schema.\n",
      " Header: 970\n",
      " Schema: equipo_id\n",
      "Expected: equipo_id but found: 970\n",
      "CSV file: file:///home/daielchom/projects/spark_notebooks/files/deportista2.csv\n"
     ]
    },
    {
     "name": "stderr",
     "output_type": "stream",
     "text": [
      "ERROR:root:KeyboardInterrupt while sending command.                 (0 + 1) / 1]\n",
      "Traceback (most recent call last):\n",
      "  File \"/home/daielchom/venvs/spark/lib/python3.8/site-packages/py4j/java_gateway.py\", line 1038, in send_command\n",
      "    response = connection.send_command(command)\n",
      "  File \"/home/daielchom/venvs/spark/lib/python3.8/site-packages/py4j/clientserver.py\", line 511, in send_command\n",
      "    answer = smart_decode(self.stream.readline()[:-1])\n",
      "  File \"/usr/lib/python3.8/socket.py\", line 669, in readinto\n",
      "    return self._sock.recv_into(b)\n",
      "KeyboardInterrupt\n"
     ]
    },
    {
     "ename": "KeyboardInterrupt",
     "evalue": "",
     "output_type": "error",
     "traceback": [
      "\u001b[0;31m---------------------------------------------------------------------------\u001b[0m",
      "\u001b[0;31mKeyboardInterrupt\u001b[0m                         Traceback (most recent call last)",
      "Cell \u001b[0;32mIn[20], line 1\u001b[0m\n\u001b[0;32m----> 1\u001b[0m \u001b[43msql\u001b[49m\u001b[38;5;241;43m.\u001b[39;49m\u001b[43msql\u001b[49m\u001b[43m(\u001b[49m\u001b[38;5;124;43m\"\"\"\u001b[39;49m\n\u001b[1;32m      2\u001b[0m \u001b[38;5;124;43m    SELECT medalla, equipo, sigla from resultado r \u001b[39;49m\n\u001b[1;32m      3\u001b[0m \u001b[38;5;124;43m    JOIN deportista d ON r.deportista_id = r.deportista_id\u001b[39;49m\n\u001b[1;32m      4\u001b[0m \u001b[38;5;124;43m    JOIN paises p ON p.paises_id = d.equipo_id\u001b[39;49m\n\u001b[1;32m      5\u001b[0m \u001b[38;5;124;43m    WHERE medalla <> \u001b[39;49m\u001b[38;5;124;43m\"\u001b[39;49m\u001b[38;5;124;43mNA\u001b[39;49m\u001b[38;5;124;43m\"\u001b[39;49m\n\u001b[1;32m      6\u001b[0m \u001b[38;5;124;43m    ORDER BY sigla DESC\u001b[39;49m\n\u001b[1;32m      7\u001b[0m \u001b[38;5;124;43m\"\"\"\u001b[39;49m\u001b[43m)\u001b[49m\u001b[38;5;241;43m.\u001b[39;49m\u001b[43mshow\u001b[49m\u001b[43m(\u001b[49m\u001b[43m)\u001b[49m\n",
      "File \u001b[0;32m~/spark/python/pyspark/sql/dataframe.py:606\u001b[0m, in \u001b[0;36mDataFrame.show\u001b[0;34m(self, n, truncate, vertical)\u001b[0m\n\u001b[1;32m    603\u001b[0m     \u001b[38;5;28;01mraise\u001b[39;00m \u001b[38;5;167;01mTypeError\u001b[39;00m(\u001b[38;5;124m\"\u001b[39m\u001b[38;5;124mParameter \u001b[39m\u001b[38;5;124m'\u001b[39m\u001b[38;5;124mvertical\u001b[39m\u001b[38;5;124m'\u001b[39m\u001b[38;5;124m must be a bool\u001b[39m\u001b[38;5;124m\"\u001b[39m)\n\u001b[1;32m    605\u001b[0m \u001b[38;5;28;01mif\u001b[39;00m \u001b[38;5;28misinstance\u001b[39m(truncate, \u001b[38;5;28mbool\u001b[39m) \u001b[38;5;129;01mand\u001b[39;00m truncate:\n\u001b[0;32m--> 606\u001b[0m     \u001b[38;5;28mprint\u001b[39m(\u001b[38;5;28;43mself\u001b[39;49m\u001b[38;5;241;43m.\u001b[39;49m\u001b[43m_jdf\u001b[49m\u001b[38;5;241;43m.\u001b[39;49m\u001b[43mshowString\u001b[49m\u001b[43m(\u001b[49m\u001b[43mn\u001b[49m\u001b[43m,\u001b[49m\u001b[43m \u001b[49m\u001b[38;5;241;43m20\u001b[39;49m\u001b[43m,\u001b[49m\u001b[43m \u001b[49m\u001b[43mvertical\u001b[49m\u001b[43m)\u001b[49m)\n\u001b[1;32m    607\u001b[0m \u001b[38;5;28;01melse\u001b[39;00m:\n\u001b[1;32m    608\u001b[0m     \u001b[38;5;28;01mtry\u001b[39;00m:\n",
      "File \u001b[0;32m~/venvs/spark/lib/python3.8/site-packages/py4j/java_gateway.py:1321\u001b[0m, in \u001b[0;36mJavaMember.__call__\u001b[0;34m(self, *args)\u001b[0m\n\u001b[1;32m   1314\u001b[0m args_command, temp_args \u001b[38;5;241m=\u001b[39m \u001b[38;5;28mself\u001b[39m\u001b[38;5;241m.\u001b[39m_build_args(\u001b[38;5;241m*\u001b[39margs)\n\u001b[1;32m   1316\u001b[0m command \u001b[38;5;241m=\u001b[39m proto\u001b[38;5;241m.\u001b[39mCALL_COMMAND_NAME \u001b[38;5;241m+\u001b[39m\\\n\u001b[1;32m   1317\u001b[0m     \u001b[38;5;28mself\u001b[39m\u001b[38;5;241m.\u001b[39mcommand_header \u001b[38;5;241m+\u001b[39m\\\n\u001b[1;32m   1318\u001b[0m     args_command \u001b[38;5;241m+\u001b[39m\\\n\u001b[1;32m   1319\u001b[0m     proto\u001b[38;5;241m.\u001b[39mEND_COMMAND_PART\n\u001b[0;32m-> 1321\u001b[0m answer \u001b[38;5;241m=\u001b[39m \u001b[38;5;28;43mself\u001b[39;49m\u001b[38;5;241;43m.\u001b[39;49m\u001b[43mgateway_client\u001b[49m\u001b[38;5;241;43m.\u001b[39;49m\u001b[43msend_command\u001b[49m\u001b[43m(\u001b[49m\u001b[43mcommand\u001b[49m\u001b[43m)\u001b[49m\n\u001b[1;32m   1322\u001b[0m return_value \u001b[38;5;241m=\u001b[39m get_return_value(\n\u001b[1;32m   1323\u001b[0m     answer, \u001b[38;5;28mself\u001b[39m\u001b[38;5;241m.\u001b[39mgateway_client, \u001b[38;5;28mself\u001b[39m\u001b[38;5;241m.\u001b[39mtarget_id, \u001b[38;5;28mself\u001b[39m\u001b[38;5;241m.\u001b[39mname)\n\u001b[1;32m   1325\u001b[0m \u001b[38;5;28;01mfor\u001b[39;00m temp_arg \u001b[38;5;129;01min\u001b[39;00m temp_args:\n",
      "File \u001b[0;32m~/venvs/spark/lib/python3.8/site-packages/py4j/java_gateway.py:1038\u001b[0m, in \u001b[0;36mGatewayClient.send_command\u001b[0;34m(self, command, retry, binary)\u001b[0m\n\u001b[1;32m   1036\u001b[0m connection \u001b[38;5;241m=\u001b[39m \u001b[38;5;28mself\u001b[39m\u001b[38;5;241m.\u001b[39m_get_connection()\n\u001b[1;32m   1037\u001b[0m \u001b[38;5;28;01mtry\u001b[39;00m:\n\u001b[0;32m-> 1038\u001b[0m     response \u001b[38;5;241m=\u001b[39m \u001b[43mconnection\u001b[49m\u001b[38;5;241;43m.\u001b[39;49m\u001b[43msend_command\u001b[49m\u001b[43m(\u001b[49m\u001b[43mcommand\u001b[49m\u001b[43m)\u001b[49m\n\u001b[1;32m   1039\u001b[0m     \u001b[38;5;28;01mif\u001b[39;00m binary:\n\u001b[1;32m   1040\u001b[0m         \u001b[38;5;28;01mreturn\u001b[39;00m response, \u001b[38;5;28mself\u001b[39m\u001b[38;5;241m.\u001b[39m_create_connection_guard(connection)\n",
      "File \u001b[0;32m~/venvs/spark/lib/python3.8/site-packages/py4j/clientserver.py:511\u001b[0m, in \u001b[0;36mClientServerConnection.send_command\u001b[0;34m(self, command)\u001b[0m\n\u001b[1;32m    509\u001b[0m \u001b[38;5;28;01mtry\u001b[39;00m:\n\u001b[1;32m    510\u001b[0m     \u001b[38;5;28;01mwhile\u001b[39;00m \u001b[38;5;28;01mTrue\u001b[39;00m:\n\u001b[0;32m--> 511\u001b[0m         answer \u001b[38;5;241m=\u001b[39m smart_decode(\u001b[38;5;28;43mself\u001b[39;49m\u001b[38;5;241;43m.\u001b[39;49m\u001b[43mstream\u001b[49m\u001b[38;5;241;43m.\u001b[39;49m\u001b[43mreadline\u001b[49m\u001b[43m(\u001b[49m\u001b[43m)\u001b[49m[:\u001b[38;5;241m-\u001b[39m\u001b[38;5;241m1\u001b[39m])\n\u001b[1;32m    512\u001b[0m         logger\u001b[38;5;241m.\u001b[39mdebug(\u001b[38;5;124m\"\u001b[39m\u001b[38;5;124mAnswer received: \u001b[39m\u001b[38;5;132;01m{0}\u001b[39;00m\u001b[38;5;124m\"\u001b[39m\u001b[38;5;241m.\u001b[39mformat(answer))\n\u001b[1;32m    513\u001b[0m         \u001b[38;5;66;03m# Happens when a the other end is dead. There might be an empty\u001b[39;00m\n\u001b[1;32m    514\u001b[0m         \u001b[38;5;66;03m# answer before the socket raises an error.\u001b[39;00m\n",
      "File \u001b[0;32m/usr/lib/python3.8/socket.py:669\u001b[0m, in \u001b[0;36mSocketIO.readinto\u001b[0;34m(self, b)\u001b[0m\n\u001b[1;32m    667\u001b[0m \u001b[38;5;28;01mwhile\u001b[39;00m \u001b[38;5;28;01mTrue\u001b[39;00m:\n\u001b[1;32m    668\u001b[0m     \u001b[38;5;28;01mtry\u001b[39;00m:\n\u001b[0;32m--> 669\u001b[0m         \u001b[38;5;28;01mreturn\u001b[39;00m \u001b[38;5;28;43mself\u001b[39;49m\u001b[38;5;241;43m.\u001b[39;49m\u001b[43m_sock\u001b[49m\u001b[38;5;241;43m.\u001b[39;49m\u001b[43mrecv_into\u001b[49m\u001b[43m(\u001b[49m\u001b[43mb\u001b[49m\u001b[43m)\u001b[49m\n\u001b[1;32m    670\u001b[0m     \u001b[38;5;28;01mexcept\u001b[39;00m timeout:\n\u001b[1;32m    671\u001b[0m         \u001b[38;5;28mself\u001b[39m\u001b[38;5;241m.\u001b[39m_timeout_occurred \u001b[38;5;241m=\u001b[39m \u001b[38;5;28;01mTrue\u001b[39;00m\n",
      "\u001b[0;31mKeyboardInterrupt\u001b[0m: "
     ]
    }
   ],
   "source": [
    "sql.sql(\"\"\"\n",
    "    SELECT medalla, equipo, sigla from resultado r \n",
    "    JOIN deportista d ON r.deportista_id = r.deportista_id\n",
    "    JOIN paises p ON p.paises_id = d.equipo_id\n",
    "    WHERE medalla <> \"NA\"\n",
    "    ORDER BY sigla DESC\n",
    "\"\"\").show()"
   ]
  },
  {
   "cell_type": "markdown",
   "id": "489f966a",
   "metadata": {},
   "source": [
    "## Class 21"
   ]
  },
  {
   "cell_type": "code",
   "execution_count": 11,
   "id": "17f1bd77",
   "metadata": {},
   "outputs": [
    {
     "name": "stdout",
     "output_type": "stream",
     "text": [
      "deportista_id,nombre,genero,edad,altura,peso,equipo_id\r\n",
      "1,A Dijiang,1,24,180,80,199\r\n",
      "2,A Lamusi,1,23,170,60,199\r\n",
      "3,Gunnar Nielsen Aaby,1,24,,,273\r\n",
      "4,Edgar Lindenau Aabye,1,34,,,278\r\n"
     ]
    }
   ],
   "source": [
    "!head -n 5 files/deportistaError.csv"
   ]
  },
  {
   "cell_type": "code",
   "execution_count": 9,
   "id": "e7366945",
   "metadata": {},
   "outputs": [],
   "source": [
    "deportisita_error = spark.textFile(path+'deportistaError.csv').map(lambda l:l.split(','))\n",
    "deportisita_error = deportisita_error.mapPartitionsWithIndex(remove_header)"
   ]
  },
  {
   "cell_type": "code",
   "execution_count": 10,
   "id": "1ad4a92b",
   "metadata": {},
   "outputs": [
    {
     "name": "stderr",
     "output_type": "stream",
     "text": [
      "                                                                                \r"
     ]
    },
    {
     "data": {
      "text/plain": [
       "[['1', 'A Dijiang', '1', '24', '180', '80', '199'],\n",
       " ['2', 'A Lamusi', '1', '23', '170', '60', '199'],\n",
       " ['3', 'Gunnar Nielsen Aaby', '1', '24', '', '', '273']]"
      ]
     },
     "execution_count": 10,
     "metadata": {},
     "output_type": "execute_result"
    }
   ],
   "source": [
    "deportisita_error.take(3)"
   ]
  },
  {
   "cell_type": "code",
   "execution_count": 29,
   "id": "6f1cab40",
   "metadata": {},
   "outputs": [],
   "source": [
    "deportisita_error.map(lambda l: (l[0],l[1],l[2],l[3],l[4],l[5],l[6]))\n",
    "schema_error = StructType([\n",
    "    StructField('deportista_id', StringType(), False),\n",
    "    StructField('nombre', StringType(), False),\n",
    "    StructField('genero', StringType(), False),\n",
    "    StructField('edad', StringType(), False),\n",
    "    StructField('altura', StringType(), False),\n",
    "    StructField('peso', StringType(), False),\n",
    "    StructField('equipo_id', StringType(), False),\n",
    "])\n",
    "#deportisita_error_df = sql.createDataFrame(deportisita_error, schema_error)"
   ]
  },
  {
   "cell_type": "code",
   "execution_count": 34,
   "id": "7fe229dd",
   "metadata": {},
   "outputs": [],
   "source": [
    "deportisita_error_df = sql.read.schema(schema_error).option('header','true').csv(path+'/deportistaError.csv')"
   ]
  },
  {
   "cell_type": "code",
   "execution_count": 35,
   "id": "b39ad26a",
   "metadata": {},
   "outputs": [
    {
     "name": "stdout",
     "output_type": "stream",
     "text": [
      "+-------------+--------------------+------+----+------+----+---------+\n",
      "|deportista_id|              nombre|genero|edad|altura|peso|equipo_id|\n",
      "+-------------+--------------------+------+----+------+----+---------+\n",
      "|            1|           A Dijiang|     1|  24|   180|  80|      199|\n",
      "|            2|            A Lamusi|     1|  23|   170|  60|      199|\n",
      "|            3| Gunnar Nielsen Aaby|     1|  24|  null|null|      273|\n",
      "|            4|Edgar Lindenau Aabye|     1|  34|  null|null|      278|\n",
      "|            5|Christine Jacoba ...|     2|  21|   185|  82|      705|\n",
      "+-------------+--------------------+------+----+------+----+---------+\n",
      "only showing top 5 rows\n",
      "\n"
     ]
    }
   ],
   "source": [
    "deportisita_error_df.show(5)"
   ]
  },
  {
   "cell_type": "code",
   "execution_count": 36,
   "id": "9589e90c",
   "metadata": {},
   "outputs": [
    {
     "name": "stdout",
     "output_type": "stream",
     "text": [
      "23/04/11 06:43:56 WARN SimpleFunctionRegistry: The function conversion_enteros_udf replaced a previously registered function.\n"
     ]
    },
    {
     "data": {
      "text/plain": [
       "<function __main__.<lambda>(z)>"
      ]
     },
     "execution_count": 36,
     "metadata": {},
     "output_type": "execute_result"
    }
   ],
   "source": [
    "from pyspark.sql.functions import udf\n",
    "\n",
    "def conversion_enteros(valor):\n",
    "    return int(valor) if valor is not None else 0\n",
    "\n",
    "conversion_enteros_udf = udf(lambda z: conversion_enteros(z), IntegerType())\n",
    "sql.udf.register('conversion_enteros_udf', conversion_enteros_udf)"
   ]
  },
  {
   "cell_type": "code",
   "execution_count": 38,
   "id": "a8baa4ee",
   "metadata": {},
   "outputs": [
    {
     "name": "stdout",
     "output_type": "stream",
     "text": [
      "+---------+\n",
      "|alturaUDF|\n",
      "+---------+\n",
      "|      180|\n",
      "|      170|\n",
      "|        0|\n",
      "|        0|\n",
      "|      185|\n",
      "+---------+\n",
      "only showing top 5 rows\n",
      "\n"
     ]
    }
   ],
   "source": [
    "deportisita_error_df.select(conversion_enteros_udf('altura').alias('alturaUDF')).show(5)"
   ]
  },
  {
   "cell_type": "markdown",
   "id": "9e9d7051",
   "metadata": {},
   "source": [
    "### Class 23"
   ]
  },
  {
   "cell_type": "code",
   "execution_count": 18,
   "id": "bd615920",
   "metadata": {},
   "outputs": [],
   "source": [
    "from pyspark.storagelevel import StorageLevel"
   ]
  },
  {
   "cell_type": "code",
   "execution_count": 13,
   "id": "c44c6d11",
   "metadata": {},
   "outputs": [
    {
     "data": {
      "text/plain": [
       "False"
      ]
     },
     "execution_count": 13,
     "metadata": {},
     "output_type": "execute_result"
    }
   ],
   "source": [
    "medallistaXAnio.is_cached"
   ]
  },
  {
   "cell_type": "code",
   "execution_count": 14,
   "id": "f4ebc64a",
   "metadata": {},
   "outputs": [
    {
     "data": {
      "text/plain": [
       "MapPartitionsRDD[89] at javaToPython at NativeMethodAccessorImpl.java:0"
      ]
     },
     "execution_count": 14,
     "metadata": {},
     "output_type": "execute_result"
    }
   ],
   "source": [
    "medallistaXAnio.rdd.cache()"
   ]
  },
  {
   "cell_type": "code",
   "execution_count": 16,
   "id": "04a3fa28",
   "metadata": {},
   "outputs": [
    {
     "data": {
      "text/plain": [
       "StorageLevel(False, True, False, False, 1)"
      ]
     },
     "execution_count": 16,
     "metadata": {},
     "output_type": "execute_result"
    }
   ],
   "source": [
    "medallistaXAnio.rdd.getStorageLevel()"
   ]
  },
  {
   "cell_type": "code",
   "execution_count": 20,
   "id": "0368be8e",
   "metadata": {},
   "outputs": [
    {
     "data": {
      "text/plain": [
       "MapPartitionsRDD[89] at javaToPython at NativeMethodAccessorImpl.java:0"
      ]
     },
     "execution_count": 20,
     "metadata": {},
     "output_type": "execute_result"
    }
   ],
   "source": [
    "medallistaXAnio.rdd.unpersist()"
   ]
  },
  {
   "cell_type": "code",
   "execution_count": 21,
   "id": "ab06331b",
   "metadata": {
    "scrolled": true
   },
   "outputs": [
    {
     "data": {
      "text/plain": [
       "MapPartitionsRDD[89] at javaToPython at NativeMethodAccessorImpl.java:0"
      ]
     },
     "execution_count": 21,
     "metadata": {},
     "output_type": "execute_result"
    }
   ],
   "source": [
    "medallistaXAnio.rdd.persist(StorageLevel.MEMORY_AND_DISK_2)"
   ]
  },
  {
   "cell_type": "code",
   "execution_count": 22,
   "id": "03748caa",
   "metadata": {},
   "outputs": [
    {
     "data": {
      "text/plain": [
       "False"
      ]
     },
     "execution_count": 22,
     "metadata": {},
     "output_type": "execute_result"
    }
   ],
   "source": [
    "medallistaXAnio.is_cached"
   ]
  },
  {
   "cell_type": "code",
   "execution_count": 24,
   "id": "a5e68df1",
   "metadata": {},
   "outputs": [
    {
     "data": {
      "text/plain": [
       "StorageLevel(True, True, False, False, 2)"
      ]
     },
     "execution_count": 24,
     "metadata": {},
     "output_type": "execute_result"
    }
   ],
   "source": [
    "medallistaXAnio.rdd.getStorageLevel()"
   ]
  },
  {
   "cell_type": "code",
   "execution_count": 25,
   "id": "8b568d48",
   "metadata": {},
   "outputs": [],
   "source": [
    "StorageLevel.MEMORY_AND_DISK_3 = StorageLevel(True, True, False, False, 3)"
   ]
  },
  {
   "cell_type": "code",
   "execution_count": 26,
   "id": "8ca6e03c",
   "metadata": {},
   "outputs": [
    {
     "data": {
      "text/plain": [
       "MapPartitionsRDD[89] at javaToPython at NativeMethodAccessorImpl.java:0"
      ]
     },
     "execution_count": 26,
     "metadata": {},
     "output_type": "execute_result"
    }
   ],
   "source": [
    "medallistaXAnio.rdd.unpersist()"
   ]
  },
  {
   "cell_type": "code",
   "execution_count": 27,
   "id": "ac44c822",
   "metadata": {},
   "outputs": [
    {
     "data": {
      "text/plain": [
       "MapPartitionsRDD[89] at javaToPython at NativeMethodAccessorImpl.java:0"
      ]
     },
     "execution_count": 27,
     "metadata": {},
     "output_type": "execute_result"
    }
   ],
   "source": [
    "medallistaXAnio.rdd.persist(StorageLevel.MEMORY_AND_DISK_3)"
   ]
  },
  {
   "cell_type": "code",
   "execution_count": 28,
   "id": "371bc673",
   "metadata": {},
   "outputs": [
    {
     "data": {
      "text/plain": [
       "StorageLevel(True, True, False, False, 3)"
      ]
     },
     "execution_count": 28,
     "metadata": {},
     "output_type": "execute_result"
    }
   ],
   "source": [
    "medallistaXAnio.rdd.getStorageLevel()"
   ]
  },
  {
   "cell_type": "code",
   "execution_count": null,
   "id": "9b6fee5f",
   "metadata": {},
   "outputs": [],
   "source": []
  }
 ],
 "metadata": {
  "kernelspec": {
   "display_name": "Python 3 (ipykernel)",
   "language": "python",
   "name": "python3"
  },
  "language_info": {
   "codemirror_mode": {
    "name": "ipython",
    "version": 3
   },
   "file_extension": ".py",
   "mimetype": "text/x-python",
   "name": "python",
   "nbconvert_exporter": "python",
   "pygments_lexer": "ipython3",
   "version": "3.8.10"
  }
 },
 "nbformat": 4,
 "nbformat_minor": 5
}
