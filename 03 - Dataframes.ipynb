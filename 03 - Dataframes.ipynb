{
 "cells": [
  {
   "cell_type": "code",
   "execution_count": 1,
   "id": "8febfddd",
   "metadata": {},
   "outputs": [],
   "source": [
    "from pyspark import SparkContext\n",
    "from pyspark.sql import SparkSession\n",
    "from pyspark.sql.types import StructType, StructField, IntegerType, StringType, FloatType\n",
    "from pyspark.sql.types import Row\n",
    "from pyspark.sql import SQLContext"
   ]
  },
  {
   "cell_type": "code",
   "execution_count": 2,
   "id": "f0bb803e",
   "metadata": {},
   "outputs": [
    {
     "name": "stdout",
     "output_type": "stream",
     "text": [
      "23/04/04 05:58:14 WARN Utils: Your hostname, PRRS-DCARVAJAL resolves to a loopback address: 127.0.1.1; using 172.30.122.249 instead (on interface eth0)\n",
      "23/04/04 05:58:14 WARN Utils: Set SPARK_LOCAL_IP if you need to bind to another address\n"
     ]
    },
    {
     "name": "stderr",
     "output_type": "stream",
     "text": [
      "Setting default log level to \"WARN\".\n",
      "To adjust logging level use sc.setLogLevel(newLevel). For SparkR, use setLogLevel(newLevel).\n"
     ]
    },
    {
     "name": "stdout",
     "output_type": "stream",
     "text": [
      "23/04/04 05:58:15 WARN NativeCodeLoader: Unable to load native-hadoop library for your platform... using builtin-java classes where applicable\n"
     ]
    },
    {
     "name": "stderr",
     "output_type": "stream",
     "text": [
      "/home/daielchom/spark/python/pyspark/sql/context.py:112: FutureWarning: Deprecated in 3.0.0. Use SparkSession.builder.getOrCreate() instead.\n",
      "  warnings.warn(\n"
     ]
    }
   ],
   "source": [
    "spark = SparkContext(master='local', appName='dataframes')\n",
    "sql = SQLContext(spark)"
   ]
  },
  {
   "cell_type": "code",
   "execution_count": 3,
   "id": "3c5ed574",
   "metadata": {},
   "outputs": [
    {
     "name": "stdout",
     "output_type": "stream",
     "text": [
      "deporte.csv\t deportistaError.csv  modelo_relacional.jpg\r\n",
      "deportista.csv\t evento.csv\t      paises.csv\r\n",
      "deportista2.csv  juegos.csv\t      resultados.csv\r\n"
     ]
    }
   ],
   "source": [
    "!ls ./files"
   ]
  },
  {
   "cell_type": "code",
   "execution_count": 4,
   "id": "6ededcf9",
   "metadata": {},
   "outputs": [
    {
     "name": "stdout",
     "output_type": "stream",
     "text": [
      ",nombre_juego,annio,temporada,ciudad\r\n",
      "1,1896 Verano,1896,Verano,Athina\r\n",
      "2,1900 Verano,1900,Verano,Paris\r\n",
      "3,1904 Verano,1904,Verano,St. Louis\r\n",
      "4,1906 Verano,1906,Verano,Athina\r\n"
     ]
    }
   ],
   "source": [
    "!head -n 5 ./files/juegos.csv"
   ]
  },
  {
   "cell_type": "code",
   "execution_count": 5,
   "id": "3ffc368d",
   "metadata": {},
   "outputs": [],
   "source": [
    "path = './files/'"
   ]
  },
  {
   "cell_type": "code",
   "execution_count": 6,
   "id": "8af3966d",
   "metadata": {},
   "outputs": [],
   "source": [
    "game_schema = StructType([StructField('juego_id', IntegerType(),False),\n",
    "                          StructField('annio', StringType(),False),\n",
    "                          StructField('temporada', StringType(),False),\n",
    "                          StructField('ciudad', StringType(),False)])\n",
    "df_game = sql.read.schema(game_schema).option('header','true').csv(path+'/juegos.csv')"
   ]
  },
  {
   "cell_type": "code",
   "execution_count": 7,
   "id": "26bd565b",
   "metadata": {},
   "outputs": [
    {
     "name": "stderr",
     "output_type": "stream",
     "text": [
      "\r",
      "[Stage 0:>                                                          (0 + 1) / 1]\r"
     ]
    },
    {
     "name": "stdout",
     "output_type": "stream",
     "text": [
      "23/04/04 05:58:30 WARN CSVHeaderChecker: Number of column in CSV header is not equal to number of fields in the schema:\n",
      " Header length: 5, schema size: 4\n",
      "CSV file: file:///home/daielchom/projects/spark_notebooks/files/juegos.csv\n"
     ]
    },
    {
     "name": "stderr",
     "output_type": "stream",
     "text": [
      "\r",
      "                                                                                \r"
     ]
    },
    {
     "name": "stdout",
     "output_type": "stream",
     "text": [
      "+--------+-----------+---------+------+\n",
      "|juego_id|      annio|temporada|ciudad|\n",
      "+--------+-----------+---------+------+\n",
      "|       1|1896 Verano|     1896|Verano|\n",
      "|       2|1900 Verano|     1900|Verano|\n",
      "|       3|1904 Verano|     1904|Verano|\n",
      "|       4|1906 Verano|     1906|Verano|\n",
      "+--------+-----------+---------+------+\n",
      "only showing top 4 rows\n",
      "\n"
     ]
    }
   ],
   "source": [
    "df_game.show(4)"
   ]
  },
  {
   "cell_type": "markdown",
   "id": "801b063e",
   "metadata": {},
   "source": [
    "### Class 14"
   ]
  },
  {
   "cell_type": "code",
   "execution_count": 10,
   "id": "3829a327",
   "metadata": {},
   "outputs": [
    {
     "name": "stderr",
     "output_type": "stream",
     "text": [
      "                                                                                \r"
     ]
    },
    {
     "data": {
      "text/plain": [
       "[['deportista_id', 'nombre', 'genero', 'edad', 'altura', 'peso', 'equipo_id'],\n",
       " ['9999', 'Ferenc Bene', '1', '19', '170', '70', '477'],\n",
       " ['9998', 'Kurt Bendlin', '1', '25', '178', '91', '1150'],\n",
       " ['9997', 'Ole Christian Bendixen', '1', '25', '180', '75', '742'],\n",
       " ['9996', 'Finn Berg Bendixen', '1', '23', '185', '74', '742']]"
      ]
     },
     "execution_count": 10,
     "metadata": {},
     "output_type": "execute_result"
    }
   ],
   "source": [
    "deportista_olimpico_rdd = spark.textFile(path+'deportista.csv').map(lambda l:l.split(','))\n",
    "deportista_olimpico_rdd.top(5)"
   ]
  },
  {
   "cell_type": "code",
   "execution_count": 11,
   "id": "27e1acb2",
   "metadata": {},
   "outputs": [],
   "source": [
    "def remove_header(index, iterator):\n",
    "    return iter(list(iterator)[1:])"
   ]
  },
  {
   "cell_type": "code",
   "execution_count": 12,
   "id": "d8ce2937",
   "metadata": {},
   "outputs": [],
   "source": [
    "deportista_olimpico_rdd = deportista_olimpico_rdd.mapPartitionsWithIndex(remove_header)"
   ]
  },
  {
   "cell_type": "code",
   "execution_count": 13,
   "id": "14494392",
   "metadata": {},
   "outputs": [
    {
     "data": {
      "text/plain": [
       "[['9999', 'Ferenc Bene', '1', '19', '170', '70', '477'],\n",
       " ['9998', 'Kurt Bendlin', '1', '25', '178', '91', '1150'],\n",
       " ['9997', 'Ole Christian Bendixen', '1', '25', '180', '75', '742'],\n",
       " ['9996', 'Finn Berg Bendixen', '1', '23', '185', '74', '742'],\n",
       " ['9995', 'HansJrg Bendiner', '1', '23', '184', '82', '1019']]"
      ]
     },
     "execution_count": 13,
     "metadata": {},
     "output_type": "execute_result"
    }
   ],
   "source": [
    "deportista_olimpico_rdd.top(5)"
   ]
  },
  {
   "cell_type": "code",
   "execution_count": 15,
   "id": "00ecf66b",
   "metadata": {},
   "outputs": [],
   "source": [
    "deportista_olimpico_rdd = deportista_olimpico_rdd.map(lambda l:(int(l[0]), l[1], int(l[2]), int(l[3]), int(l[4]), float(l[5]), int(l[6])))"
   ]
  },
  {
   "cell_type": "code",
   "execution_count": 16,
   "id": "75b6a162",
   "metadata": {},
   "outputs": [],
   "source": [
    "schema = StructType([StructField('deportista_id', IntegerType(),False),\n",
    "                     StructField('nombre', StringType(),False),\n",
    "                     StructField('genero', IntegerType(),False),\n",
    "                     StructField('edad', IntegerType(),False),\n",
    "                     StructField('altura', IntegerType(),False),\n",
    "                     StructField('peso', FloatType(),False),\n",
    "                     StructField('equipo_id', IntegerType(),False),\n",
    "                    ])"
   ]
  },
  {
   "cell_type": "code",
   "execution_count": 18,
   "id": "fd58f62f",
   "metadata": {},
   "outputs": [
    {
     "name": "stdout",
     "output_type": "stream",
     "text": [
      "+-------------+--------------------+------+----+------+----+---------+\n",
      "|deportista_id|              nombre|genero|edad|altura|peso|equipo_id|\n",
      "+-------------+--------------------+------+----+------+----+---------+\n",
      "|            1|           A Dijiang|     1|  24|   180|80.0|      199|\n",
      "|            2|            A Lamusi|     1|  23|   170|60.0|      199|\n",
      "|            3| Gunnar Nielsen Aaby|     1|  24|     0| 0.0|      273|\n",
      "|            4|Edgar Lindenau Aabye|     1|  34|     0| 0.0|      278|\n",
      "|            5|Christine Jacoba ...|     2|  21|   185|82.0|      705|\n",
      "+-------------+--------------------+------+----+------+----+---------+\n",
      "only showing top 5 rows\n",
      "\n"
     ]
    }
   ],
   "source": [
    "df_sport = sql.createDataFrame(deportista_olimpico_rdd, schema)\n",
    "df_sport.show(5)"
   ]
  },
  {
   "cell_type": "code",
   "execution_count": 19,
   "id": "59b0b7f6",
   "metadata": {},
   "outputs": [],
   "source": [
    "spark.stop()"
   ]
  },
  {
   "cell_type": "code",
   "execution_count": null,
   "id": "2a945905",
   "metadata": {},
   "outputs": [],
   "source": []
  }
 ],
 "metadata": {
  "kernelspec": {
   "display_name": "Python 3 (ipykernel)",
   "language": "python",
   "name": "python3"
  },
  "language_info": {
   "codemirror_mode": {
    "name": "ipython",
    "version": 3
   },
   "file_extension": ".py",
   "mimetype": "text/x-python",
   "name": "python",
   "nbconvert_exporter": "python",
   "pygments_lexer": "ipython3",
   "version": "3.8.10"
  }
 },
 "nbformat": 4,
 "nbformat_minor": 5
}
