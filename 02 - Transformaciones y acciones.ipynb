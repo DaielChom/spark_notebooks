{
 "cells": [
  {
   "cell_type": "code",
   "execution_count": 1,
   "id": "ec7d2611",
   "metadata": {},
   "outputs": [],
   "source": [
    "from pyspark import SparkContext"
   ]
  },
  {
   "cell_type": "code",
   "execution_count": 2,
   "id": "9b176890",
   "metadata": {},
   "outputs": [
    {
     "name": "stdout",
     "output_type": "stream",
     "text": [
      "23/04/03 06:16:19 WARN Utils: Your hostname, PRRS-DCARVAJAL resolves to a loopback address: 127.0.1.1; using 172.17.19.227 instead (on interface eth0)\n",
      "23/04/03 06:16:19 WARN Utils: Set SPARK_LOCAL_IP if you need to bind to another address\n"
     ]
    },
    {
     "name": "stderr",
     "output_type": "stream",
     "text": [
      "Setting default log level to \"WARN\".\n",
      "To adjust logging level use sc.setLogLevel(newLevel). For SparkR, use setLogLevel(newLevel).\n"
     ]
    },
    {
     "name": "stdout",
     "output_type": "stream",
     "text": [
      "23/04/03 06:16:21 WARN NativeCodeLoader: Unable to load native-hadoop library for your platform... using builtin-java classes where applicable\n"
     ]
    }
   ],
   "source": [
    "sc = SparkContext(master='local', appName='transformaciones_acciones')"
   ]
  },
  {
   "cell_type": "code",
   "execution_count": 3,
   "id": "706914fd",
   "metadata": {},
   "outputs": [
    {
     "data": {
      "text/plain": [
       "pyspark.rdd.RDD"
      ]
     },
     "execution_count": 3,
     "metadata": {},
     "output_type": "execute_result"
    }
   ],
   "source": [
    "rdd1 = sc.parallelize([1,2,3])\n",
    "type(rdd1)"
   ]
  },
  {
   "cell_type": "code",
   "execution_count": 4,
   "id": "de149345",
   "metadata": {},
   "outputs": [
    {
     "data": {
      "text/plain": [
       "[1, 2, 3]"
      ]
     },
     "execution_count": 4,
     "metadata": {},
     "output_type": "execute_result"
    }
   ],
   "source": [
    "rdd1.collect()"
   ]
  },
  {
   "cell_type": "code",
   "execution_count": 5,
   "id": "348a1eb5",
   "metadata": {},
   "outputs": [
    {
     "data": {
      "text/html": [
       "\n",
       "        <div>\n",
       "            <p><b>SparkContext</b></p>\n",
       "\n",
       "            <p><a href=\"http://172.17.19.227:4040\">Spark UI</a></p>\n",
       "\n",
       "            <dl>\n",
       "              <dt>Version</dt>\n",
       "                <dd><code>v3.3.2</code></dd>\n",
       "              <dt>Master</dt>\n",
       "                <dd><code>local</code></dd>\n",
       "              <dt>AppName</dt>\n",
       "                <dd><code>transformaciones_acciones</code></dd>\n",
       "            </dl>\n",
       "        </div>\n",
       "        "
      ],
      "text/plain": [
       "<SparkContext master=local appName=transformaciones_acciones>"
      ]
     },
     "execution_count": 5,
     "metadata": {},
     "output_type": "execute_result"
    }
   ],
   "source": [
    "sc"
   ]
  },
  {
   "cell_type": "code",
   "execution_count": 6,
   "id": "eb4afbc7",
   "metadata": {},
   "outputs": [],
   "source": [
    "### Load data\n",
    "path='./files/'"
   ]
  },
  {
   "cell_type": "code",
   "execution_count": 7,
   "id": "4068de95",
   "metadata": {},
   "outputs": [],
   "source": [
    "equipos_olimpicos_rdd = sc.textFile(path+'paises.csv').map(lambda line:line.split(','))"
   ]
  },
  {
   "cell_type": "code",
   "execution_count": 8,
   "id": "68897922",
   "metadata": {},
   "outputs": [
    {
     "name": "stderr",
     "output_type": "stream",
     "text": [
      "                                                                                \r"
     ]
    },
    {
     "data": {
      "text/plain": [
       "[['id', 'equipo', 'sigla'],\n",
       " ['1', '30. Februar', 'AUT'],\n",
       " ['2', 'A North American Team', 'MEX'],\n",
       " ['3', 'Acipactli', 'MEX'],\n",
       " ['4', 'Acturus', 'ARG']]"
      ]
     },
     "execution_count": 8,
     "metadata": {},
     "output_type": "execute_result"
    }
   ],
   "source": [
    "equipos_olimpicos_rdd.take(5)"
   ]
  },
  {
   "cell_type": "markdown",
   "id": "fa559630",
   "metadata": {},
   "source": [
    "#### Class 09"
   ]
  },
  {
   "cell_type": "code",
   "execution_count": 9,
   "id": "ce5bad47",
   "metadata": {},
   "outputs": [
    {
     "name": "stderr",
     "output_type": "stream",
     "text": [
      "                                                                                \r"
     ]
    },
    {
     "data": {
      "text/plain": [
       "231"
      ]
     },
     "execution_count": 9,
     "metadata": {},
     "output_type": "execute_result"
    }
   ],
   "source": [
    "equipos_olimpicos_rdd.map(lambda x:(x[2])).distinct().count()"
   ]
  },
  {
   "cell_type": "code",
   "execution_count": 10,
   "id": "e4a1a567",
   "metadata": {},
   "outputs": [
    {
     "data": {
      "text/plain": [
       "[('sigla', 1), ('AUT', 11), ('MEX', 9), ('ARG', 18), ('AFG', 1)]"
      ]
     },
     "execution_count": 10,
     "metadata": {},
     "output_type": "execute_result"
    }
   ],
   "source": [
    "equipos_olimpicos_rdd.map(lambda x:(x[2], x[1])).groupByKey().mapValues(len).take(5)"
   ]
  },
  {
   "cell_type": "code",
   "execution_count": 11,
   "id": "454bab65",
   "metadata": {},
   "outputs": [
    {
     "data": {
      "text/plain": [
       "[('sigla', ['equipo']),\n",
       " ('AUT',\n",
       "  ['30. Februar',\n",
       "   'Austria',\n",
       "   'Austria-1',\n",
       "   'Austria-2',\n",
       "   'Breslau',\n",
       "   'Brigantia',\n",
       "   'Donar III',\n",
       "   'Evita VI',\n",
       "   'May-Be 1960',\n",
       "   '\"R.-V. Germania; Leitmeritz\"',\n",
       "   'Surprise'])]"
      ]
     },
     "execution_count": 11,
     "metadata": {},
     "output_type": "execute_result"
    }
   ],
   "source": [
    "equipos_olimpicos_rdd.map(lambda x:(x[2], x[1])).groupByKey().mapValues(list).take(2)"
   ]
  },
  {
   "cell_type": "code",
   "execution_count": 12,
   "id": "5a841454",
   "metadata": {},
   "outputs": [],
   "source": [
    "equipos_ARG = equipos_olimpicos_rdd.filter(lambda x: 'ARG' in x)"
   ]
  },
  {
   "cell_type": "code",
   "execution_count": 13,
   "id": "ac8e22ac",
   "metadata": {},
   "outputs": [
    {
     "data": {
      "text/plain": [
       "[['4', 'Acturus', 'ARG'],\n",
       " ['37', 'Antares', 'ARG'],\n",
       " ['42', 'Arcturus', 'ARG'],\n",
       " ['43', 'Ardilla', 'ARG'],\n",
       " ['45', 'Argentina', 'ARG'],\n",
       " ['46', 'Argentina-1', 'ARG'],\n",
       " ['47', 'Argentina-2', 'ARG'],\n",
       " ['119', 'Blue Red', 'ARG'],\n",
       " ['238', 'Covunco III', 'ARG'],\n",
       " ['252', 'Cupidon III', 'ARG'],\n",
       " ['288', 'Djinn', 'ARG'],\n",
       " ['436', 'Gullvinge', 'ARG'],\n",
       " ['644', 'Matrero II', 'ARG'],\n",
       " ['672', 'Mizar', 'ARG'],\n",
       " ['774', 'Pampero', 'ARG'],\n",
       " ['843', 'Rampage', 'ARG'],\n",
       " ['1031', 'Tango', 'ARG'],\n",
       " ['1162', 'Wiking', 'ARG']]"
      ]
     },
     "execution_count": 13,
     "metadata": {},
     "output_type": "execute_result"
    }
   ],
   "source": [
    "equipos_ARG.collect()"
   ]
  },
  {
   "cell_type": "code",
   "execution_count": 14,
   "id": "910029c8",
   "metadata": {},
   "outputs": [
    {
     "data": {
      "text/plain": [
       "1185"
      ]
     },
     "execution_count": 14,
     "metadata": {},
     "output_type": "execute_result"
    }
   ],
   "source": [
    "equipos_olimpicos_rdd.count()"
   ]
  },
  {
   "cell_type": "code",
   "execution_count": 15,
   "id": "6e67d35d",
   "metadata": {},
   "outputs": [
    {
     "data": {
      "text/plain": [
       "1185"
      ]
     },
     "execution_count": 15,
     "metadata": {},
     "output_type": "execute_result"
    }
   ],
   "source": [
    "# contar hasta que se acaben los 20 milisegundos.\n",
    "equipos_olimpicos_rdd.countApprox(20)"
   ]
  },
  {
   "cell_type": "markdown",
   "id": "83b140a5",
   "metadata": {},
   "source": [
    "### Class 10"
   ]
  },
  {
   "cell_type": "code",
   "execution_count": 16,
   "id": "791bc7ab",
   "metadata": {},
   "outputs": [],
   "source": [
    "deportista_olimpico_rdd = sc.textFile(path+'deportista.csv').map(lambda l:l.split(','))\n",
    "deportista_olimpico_rdd2 = sc.textFile(path+'deportista2.csv').map(lambda l:l.split(','))\n",
    "deportista_olimpico_rdd = deportista_olimpico_rdd.union(deportista_olimpico_rdd2)"
   ]
  },
  {
   "cell_type": "code",
   "execution_count": 17,
   "id": "ae51844d",
   "metadata": {},
   "outputs": [
    {
     "name": "stderr",
     "output_type": "stream",
     "text": [
      "\r",
      "[Stage 11:=============================>                            (1 + 1) / 2]\r",
      "\r",
      "                                                                                \r"
     ]
    },
    {
     "data": {
      "text/plain": [
       "135572"
      ]
     },
     "execution_count": 17,
     "metadata": {},
     "output_type": "execute_result"
    }
   ],
   "source": [
    "deportista_olimpico_rdd.count()"
   ]
  },
  {
   "cell_type": "code",
   "execution_count": 18,
   "id": "0e2ffb5c",
   "metadata": {},
   "outputs": [
    {
     "data": {
      "text/plain": [
       "[['id', 'equipo', 'sigla'],\n",
       " ['999', 'Stella-2', 'NOR'],\n",
       " ['998', 'State VI', 'CAN'],\n",
       " ['997', 'Starlight III', 'GBR'],\n",
       " ['996', 'Starita', 'NED']]"
      ]
     },
     "execution_count": 18,
     "metadata": {},
     "output_type": "execute_result"
    }
   ],
   "source": [
    "equipos_olimpicos_rdd.top(5)"
   ]
  },
  {
   "cell_type": "code",
   "execution_count": 19,
   "id": "ae8157e4",
   "metadata": {},
   "outputs": [
    {
     "name": "stderr",
     "output_type": "stream",
     "text": [
      "\r",
      "[Stage 13:=============================>                            (1 + 1) / 2]\r",
      "\r",
      "                                                                                \r"
     ]
    },
    {
     "data": {
      "text/plain": [
       "[['deportista_id', 'nombre', 'genero', 'edad', 'altura', 'peso', 'equipo_id'],\n",
       " ['99999', 'Alexander Grant Alick Rennie', '1', '32', '182', '71', '967'],\n",
       " ['99998', 'Robert John Bob Renney', '1', '21', '178', '90', '66'],\n",
       " ['99997', 'Thomas Renner', '1', '24', '183', '86', '71'],\n",
       " ['99996', 'Sara Renner', '2', '21', '168', '63', '174']]"
      ]
     },
     "execution_count": 19,
     "metadata": {},
     "output_type": "execute_result"
    }
   ],
   "source": [
    "deportista_olimpico_rdd.top(5)"
   ]
  },
  {
   "cell_type": "code",
   "execution_count": 20,
   "id": "67ab9414",
   "metadata": {},
   "outputs": [
    {
     "name": "stderr",
     "output_type": "stream",
     "text": [
      "                                                                                \r"
     ]
    },
    {
     "data": {
      "text/plain": [
       "[('199', (['1', 'A Dijiang', '1', '24', '180', '80'], 'CHN')),\n",
       " ('199', (['2', 'A Lamusi', '1', '23', '170', '60'], 'CHN')),\n",
       " ('199', (['602', 'Abudoureheman', '1', '22', '182', '75'], 'CHN')),\n",
       " ('199', (['1463', 'Ai Linuer', '1', '25', '160', '62'], 'CHN')),\n",
       " ('199', (['1464', 'Ai Yanhan', '2', '14', '168', '54'], 'CHN')),\n",
       " ('199', (['3605', 'An Weijiang', '1', '22', '178', '72'], 'CHN')),\n",
       " ('199', (['3610', 'An Yulong', '1', '19', '173', '70'], 'CHN')),\n",
       " ('199', (['3611', 'An Zhongxin', '2', '23', '170', '65'], 'CHN')),\n",
       " ('199', (['4639', 'Ao Changrong', '1', '25', '173', '71'], 'CHN')),\n",
       " ('199', (['4641', 'Ao Tegen', '1', '21', '181', '90'], 'CHN'))]"
      ]
     },
     "execution_count": 20,
     "metadata": {},
     "output_type": "execute_result"
    }
   ],
   "source": [
    "deportista_olimpico_rdd.map(lambda l:(l[-1],l[:-1])).join(equipos_olimpicos_rdd.map(lambda x:(x[0],x[2]))).take(10)"
   ]
  },
  {
   "cell_type": "code",
   "execution_count": 21,
   "id": "fa4fb5b5",
   "metadata": {},
   "outputs": [
    {
     "name": "stderr",
     "output_type": "stream",
     "text": [
      "                                                                                \r"
     ]
    },
    {
     "data": {
      "text/plain": [
       "[('656',\n",
       "  (['105216', 'Mara Guadalupe Snchez Gmez', '2', '29', '169', '53'], 'MEX')),\n",
       " ('93',\n",
       "  (['21394', 'Iosif Ivanovich Chugoshvili', '1', '25', '188', '120'], 'BLR')),\n",
       " ('174', (['120246', 'Paul Tichelaar', '1', '25', '184', '73'], 'CAN')),\n",
       " ('1121', (['70484', 'Hildemaro P. Lista', '1', '31', '0', '0'], 'URU')),\n",
       " ('203', (['116588', 'Sung YiChieh', '2', '18', '164', '57'], 'TPE')),\n",
       " ('507', (['15862', 'Antonio Brutti', '1', '27', '169', '59'], 'ITA')),\n",
       " ('362', (['47754', 'Ludovic Henry', '1', '47', '195', '88'], 'FRA')),\n",
       " ('96', (['13326', 'Jill Boon', '2', '25', '172', '65'], 'BEL')),\n",
       " ('810', (['87205', 'Marcin Nowak', '1', '20', '215', '105'], 'POL')),\n",
       " ('1026', (['110006', 'Zouheir AlShourbagi', '1', '0', '0', '0'], 'SYR'))]"
      ]
     },
     "execution_count": 21,
     "metadata": {},
     "output_type": "execute_result"
    }
   ],
   "source": [
    "# take sample randomly base in a seed\n",
    "deportista_olimpico_rdd.map(lambda l:(l[-1],l[:-1])).join(equipos_olimpicos_rdd.map(lambda x:(x[0],x[2]))).takeSample(False, 10, 333)"
   ]
  },
  {
   "cell_type": "code",
   "execution_count": 22,
   "id": "0edb6a2c",
   "metadata": {},
   "outputs": [
    {
     "name": "stderr",
     "output_type": "stream",
     "text": [
      "                                                                                \r"
     ]
    },
    {
     "data": {
      "text/plain": [
       "271117"
      ]
     },
     "execution_count": 22,
     "metadata": {},
     "output_type": "execute_result"
    }
   ],
   "source": [
    "resultados = sc.textFile(path+'resultados.csv').map(lambda l:l.split(','))\n",
    "resultados.count()"
   ]
  },
  {
   "cell_type": "code",
   "execution_count": 23,
   "id": "45b74fe8",
   "metadata": {},
   "outputs": [
    {
     "data": {
      "text/plain": [
       "[['resultado_id', 'medalla', 'deportista_id', 'juego_id', 'evento_id'],\n",
       " ['99999', 'NA', '50604', '51', '568'],\n",
       " ['99998', 'NA', '50603', '47', '36'],\n",
       " ['99997', 'NA', '50602', '49', '262'],\n",
       " ['99996', 'NA', '50601', '47', '614']]"
      ]
     },
     "execution_count": 23,
     "metadata": {},
     "output_type": "execute_result"
    }
   ],
   "source": [
    "resultados.top(5)"
   ]
  },
  {
   "cell_type": "code",
   "execution_count": 24,
   "id": "8751b5f0",
   "metadata": {},
   "outputs": [
    {
     "name": "stderr",
     "output_type": "stream",
     "text": [
      "                                                                                \r"
     ]
    },
    {
     "data": {
      "text/plain": [
       "[['resultado_id', 'medalla', 'deportista_id', 'juego_id', 'evento_id'],\n",
       " ['99993', 'Silver', '50600', '39', '207'],\n",
       " ['99986', 'Silver', '50597', '45', '199'],\n",
       " ['99985', 'Bronze', '50597', '43', '72'],\n",
       " ['99963', 'Bronze', '50580', '37', '245']]"
      ]
     },
     "execution_count": 24,
     "metadata": {},
     "output_type": "execute_result"
    }
   ],
   "source": [
    "ganadores = resultados.filter(lambda l:'NA' not in l[1])\n",
    "ganadores.top(5)"
   ]
  },
  {
   "cell_type": "markdown",
   "id": "fd503fa2",
   "metadata": {},
   "source": [
    "### Class 11"
   ]
  },
  {
   "cell_type": "code",
   "execution_count": 28,
   "id": "4e839085",
   "metadata": {},
   "outputs": [
    {
     "name": "stderr",
     "output_type": "stream",
     "text": [
      "                                                                                \r"
     ]
    },
    {
     "data": {
      "text/plain": [
       "[('999', (['92679', 'Trygve Bjarne Pedersen', '1', '35', '0', '0'], 'NOR')),\n",
       " ('999', (['1144', 'Henrik Agersborg', '1', '47', '0', '0'], 'NOR')),\n",
       " ('999', (['10765', 'Einar Berntsen', '1', '28', '0', '0'], 'NOR')),\n",
       " ('998',\n",
       "  (['111659', 'G. Bernard Bernie Skinner', '1', '34', '182', '82'], 'CAN')),\n",
       " ('996', (['116030', 'Edward Eddy Stutterheim', '1', '39', '0', '0'], 'NED'))]"
      ]
     },
     "execution_count": 28,
     "metadata": {},
     "output_type": "execute_result"
    }
   ],
   "source": [
    "deportista_paises = deportista_olimpico_rdd.map(lambda l:[l[-1],l[:-1]]).join(equipos_olimpicos_rdd.map(lambda x:[x[0],x[2]]))\n",
    "deportista_paises.top(5)"
   ]
  },
  {
   "cell_type": "code",
   "execution_count": 30,
   "id": "80d48f70",
   "metadata": {},
   "outputs": [
    {
     "name": "stderr",
     "output_type": "stream",
     "text": [
      "                                                                                \r"
     ]
    },
    {
     "data": {
      "text/plain": [
       "[('74',\n",
       "  ((['65', 'Patimat Abakarova', '2', '21', '165', '49'], 'AZE'), 'Gold')),\n",
       " ('74', ((['129', 'Ruslan Abbasov', '1', '22', '181', '74'], 'AZE'), 'Gold')),\n",
       " ('74', ((['130', 'Tural Abbasov', '1', '18', '182', '76'], 'AZE'), 'Gold')),\n",
       " ('74', ((['131', 'Tran Abbasova', '2', '33', '159', '53'], 'AZE'), 'Gold')),\n",
       " ('74',\n",
       "  ((['335', 'Abdulqdir Abdullayev', '1', '28', '188', '91'], 'AZE'), 'Gold')),\n",
       " ('74',\n",
       "  ((['336', 'Arif Yadulla Abdullayev', '1', '27', '164', '60'], 'AZE'),\n",
       "   'Gold'))]"
      ]
     },
     "execution_count": 30,
     "metadata": {},
     "output_type": "execute_result"
    }
   ],
   "source": [
    "medallas = deportista_paises.join(ganadores)\n",
    "medallas.take(6)"
   ]
  },
  {
   "cell_type": "markdown",
   "id": "606369a8",
   "metadata": {},
   "source": [
    "### Class 12"
   ]
  },
  {
   "cell_type": "code",
   "execution_count": 36,
   "id": "c04b462f",
   "metadata": {},
   "outputs": [],
   "source": [
    "from operator import add"
   ]
  },
  {
   "cell_type": "code",
   "execution_count": 34,
   "id": "f1ef5abc",
   "metadata": {},
   "outputs": [],
   "source": [
    "points = {'Gold':7,'Silver':5,'Bronze':4}"
   ]
  },
  {
   "cell_type": "code",
   "execution_count": 37,
   "id": "940b07ce",
   "metadata": {},
   "outputs": [],
   "source": [
    "country_point = medallas.map(lambda x: (x[1][0][-1], points[x[1][1]]))"
   ]
  },
  {
   "cell_type": "code",
   "execution_count": 40,
   "id": "3fd17feb",
   "metadata": {},
   "outputs": [
    {
     "name": "stderr",
     "output_type": "stream",
     "text": [
      "                                                                                \r"
     ]
    }
   ],
   "source": [
    "results2 = country_point.reduceByKey((add)).sortBy(lambda x:x[1], ascending=False)"
   ]
  },
  {
   "cell_type": "code",
   "execution_count": 41,
   "id": "93bdd23b",
   "metadata": {},
   "outputs": [
    {
     "data": {
      "text/plain": [
       "[('CAN', 32538),\n",
       " ('ARG', 12520),\n",
       " ('HUN', 10860),\n",
       " ('MEX', 6124),\n",
       " ('RSA', 3788),\n",
       " ('BLR', 3580),\n",
       " ('LTU', 1535),\n",
       " ('MGL', 1460),\n",
       " ('USA', 1342),\n",
       " ('AZE', 1218)]"
      ]
     },
     "execution_count": 41,
     "metadata": {},
     "output_type": "execute_result"
    }
   ],
   "source": [
    "results2.take(10)"
   ]
  },
  {
   "cell_type": "code",
   "execution_count": null,
   "id": "7b660cc4",
   "metadata": {},
   "outputs": [],
   "source": []
  },
  {
   "cell_type": "code",
   "execution_count": 45,
   "id": "e3cceeb8",
   "metadata": {},
   "outputs": [],
   "source": [
    "sc.stop()"
   ]
  },
  {
   "cell_type": "code",
   "execution_count": null,
   "id": "9466bf30",
   "metadata": {},
   "outputs": [],
   "source": []
  }
 ],
 "metadata": {
  "kernelspec": {
   "display_name": "Python 3 (ipykernel)",
   "language": "python",
   "name": "python3"
  },
  "language_info": {
   "codemirror_mode": {
    "name": "ipython",
    "version": 3
   },
   "file_extension": ".py",
   "mimetype": "text/x-python",
   "name": "python",
   "nbconvert_exporter": "python",
   "pygments_lexer": "ipython3",
   "version": "3.8.10"
  }
 },
 "nbformat": 4,
 "nbformat_minor": 5
}
