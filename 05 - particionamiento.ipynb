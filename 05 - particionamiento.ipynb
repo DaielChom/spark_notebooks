{
 "cells": [
  {
   "cell_type": "code",
   "execution_count": 1,
   "id": "5bb0165c",
   "metadata": {},
   "outputs": [],
   "source": [
    "from pyspark.sql import SparkSession"
   ]
  },
  {
   "cell_type": "code",
   "execution_count": 3,
   "id": "36daf115",
   "metadata": {},
   "outputs": [
    {
     "name": "stdout",
     "output_type": "stream",
     "text": [
      "23/04/11 15:37:06 WARN Utils: Your hostname, PRRS-DCARVAJAL resolves to a loopback address: 127.0.1.1; using 172.30.127.46 instead (on interface eth0)\n",
      "23/04/11 15:37:06 WARN Utils: Set SPARK_LOCAL_IP if you need to bind to another address\n"
     ]
    },
    {
     "name": "stderr",
     "output_type": "stream",
     "text": [
      "Setting default log level to \"WARN\".\n",
      "To adjust logging level use sc.setLogLevel(newLevel). For SparkR, use setLogLevel(newLevel).\n"
     ]
    },
    {
     "name": "stdout",
     "output_type": "stream",
     "text": [
      "23/04/11 15:37:18 WARN NativeCodeLoader: Unable to load native-hadoop library for your platform... using builtin-java classes where applicable\n"
     ]
    }
   ],
   "source": [
    "spark = SparkSession.builder.appName('Particionado').master('local[5]').getOrCreate()"
   ]
  },
  {
   "cell_type": "code",
   "execution_count": 5,
   "id": "152493d9",
   "metadata": {},
   "outputs": [
    {
     "data": {
      "text/plain": [
       "5"
      ]
     },
     "execution_count": 5,
     "metadata": {},
     "output_type": "execute_result"
    }
   ],
   "source": [
    "df = spark.range(0, 20)\n",
    "df.rdd.getNumPartitions()"
   ]
  },
  {
   "cell_type": "code",
   "execution_count": 7,
   "id": "dc6da394",
   "metadata": {},
   "outputs": [
    {
     "data": {
      "text/plain": [
       "10"
      ]
     },
     "execution_count": 7,
     "metadata": {},
     "output_type": "execute_result"
    }
   ],
   "source": [
    "rdd1 = spark.sparkContext.parallelize((0, 20), 10)\n",
    "rdd1.getNumPartitions()"
   ]
  },
  {
   "cell_type": "code",
   "execution_count": 10,
   "id": "4cfb4292",
   "metadata": {},
   "outputs": [],
   "source": [
    "rdd_from_file = spark.sparkContext.textFile('files/deporte.csv', 10)"
   ]
  },
  {
   "cell_type": "code",
   "execution_count": 11,
   "id": "d658175f",
   "metadata": {},
   "outputs": [
    {
     "data": {
      "text/plain": [
       "10"
      ]
     },
     "execution_count": 11,
     "metadata": {},
     "output_type": "execute_result"
    }
   ],
   "source": [
    "rdd_from_file.getNumPartitions()"
   ]
  },
  {
   "cell_type": "code",
   "execution_count": 12,
   "id": "409014d7",
   "metadata": {},
   "outputs": [
    {
     "name": "stderr",
     "output_type": "stream",
     "text": [
      "                                                                                \r"
     ]
    }
   ],
   "source": [
    "rdd_from_file.saveAsTextFile('files/partition_output/')"
   ]
  },
  {
   "cell_type": "code",
   "execution_count": 13,
   "id": "bb515091",
   "metadata": {},
   "outputs": [
    {
     "name": "stdout",
     "output_type": "stream",
     "text": [
      "_SUCCESS    part-00001\tpart-00003  part-00005\tpart-00007  part-00009\r\n",
      "part-00000  part-00002\tpart-00004  part-00006\tpart-00008\r\n"
     ]
    }
   ],
   "source": [
    "!ls files/partition_output/"
   ]
  },
  {
   "cell_type": "code",
   "execution_count": 14,
   "id": "4f1219d0",
   "metadata": {},
   "outputs": [
    {
     "name": "stdout",
     "output_type": "stream",
     "text": [
      "7,Athletics\r\n",
      "8,Ice Hockey\r\n",
      "9,Swimming\r\n",
      "10,Badminton\r\n",
      "11,Sailing\r\n"
     ]
    }
   ],
   "source": [
    "!head -n 5 files/partition_output/part-00001"
   ]
  },
  {
   "cell_type": "code",
   "execution_count": 20,
   "id": "89dd9d71",
   "metadata": {},
   "outputs": [],
   "source": [
    "rdd = spark.sparkContext.wholeTextFiles('files/partition_output/*')"
   ]
  },
  {
   "cell_type": "code",
   "execution_count": 17,
   "id": "6892f897",
   "metadata": {},
   "outputs": [
    {
     "data": {
      "text/plain": [
       "[('file:/home/daielchom/projects/spark_notebooks/files/partition_output/part-00000',\n",
       "  'deporte_id,deporte\\n1,Basketball\\n2,Judo\\n3,Football\\n4,Tug-Of-War\\n5,Speed Skating\\n6,Cross Country Skiing\\n'),\n",
       " ('file:/home/daielchom/projects/spark_notebooks/files/partition_output/part-00001',\n",
       "  '7,Athletics\\n8,Ice Hockey\\n9,Swimming\\n10,Badminton\\n11,Sailing\\n12,Biathlon\\n13,Gymnastics\\n14,Art Competitions\\n'),\n",
       " ('file:/home/daielchom/projects/spark_notebooks/files/partition_output/part-00002',\n",
       "  '15,Alpine Skiing\\n16,Handball\\n17,Weightlifting\\n18,Wrestling\\n19,Luge\\n20,Water Polo\\n'),\n",
       " ('file:/home/daielchom/projects/spark_notebooks/files/partition_output/part-00003',\n",
       "  '21,Hockey\\n22,Rowing\\n23,Bobsleigh\\n24,Fencing\\n25,Equestrianism\\n26,Shooting\\n27,Boxing\\n28,Taekwondo\\n'),\n",
       " ('file:/home/daielchom/projects/spark_notebooks/files/partition_output/part-00004',\n",
       "  '29,Cycling\\n30,Diving\\n31,Canoeing\\n32,Tennis\\n33,Modern Pentathlon\\n34,Figure Skating\\n35,Golf\\n')]"
      ]
     },
     "execution_count": 17,
     "metadata": {},
     "output_type": "execute_result"
    }
   ],
   "source": [
    "rdd.take(5)"
   ]
  },
  {
   "cell_type": "code",
   "execution_count": 22,
   "id": "e0458dd3",
   "metadata": {},
   "outputs": [
    {
     "data": {
      "text/plain": [
       "['file:/home/daielchom/projects/spark_notebooks/files/partition_output/part-00000',\n",
       " 'file:/home/daielchom/projects/spark_notebooks/files/partition_output/part-00001',\n",
       " 'file:/home/daielchom/projects/spark_notebooks/files/partition_output/part-00002',\n",
       " 'file:/home/daielchom/projects/spark_notebooks/files/partition_output/part-00003',\n",
       " 'file:/home/daielchom/projects/spark_notebooks/files/partition_output/part-00004',\n",
       " 'file:/home/daielchom/projects/spark_notebooks/files/partition_output/part-00005',\n",
       " 'file:/home/daielchom/projects/spark_notebooks/files/partition_output/part-00006',\n",
       " 'file:/home/daielchom/projects/spark_notebooks/files/partition_output/part-00007',\n",
       " 'file:/home/daielchom/projects/spark_notebooks/files/partition_output/part-00008',\n",
       " 'file:/home/daielchom/projects/spark_notebooks/files/partition_output/part-00009']"
      ]
     },
     "execution_count": 22,
     "metadata": {},
     "output_type": "execute_result"
    }
   ],
   "source": [
    "lista = rdd.mapValues(lambda x: x.split()).collect()\n",
    "lista = [i[0] for i in lista]\n",
    "lista"
   ]
  },
  {
   "cell_type": "code",
   "execution_count": 26,
   "id": "c58b8db9",
   "metadata": {},
   "outputs": [],
   "source": [
    "rdd2 = spark.sparkContext.textFile(','.join(lista), 10).map(lambda l:l.split(','))"
   ]
  },
  {
   "cell_type": "code",
   "execution_count": 27,
   "id": "bb22b7d8",
   "metadata": {},
   "outputs": [
    {
     "data": {
      "text/plain": [
       "[['deporte_id', 'deporte'],\n",
       " ['1', 'Basketball'],\n",
       " ['2', 'Judo'],\n",
       " ['3', 'Football']]"
      ]
     },
     "execution_count": 27,
     "metadata": {},
     "output_type": "execute_result"
    }
   ],
   "source": [
    "rdd2.take(4)"
   ]
  },
  {
   "cell_type": "code",
   "execution_count": null,
   "id": "a95d80eb",
   "metadata": {},
   "outputs": [],
   "source": []
  }
 ],
 "metadata": {
  "kernelspec": {
   "display_name": "Python 3 (ipykernel)",
   "language": "python",
   "name": "python3"
  },
  "language_info": {
   "codemirror_mode": {
    "name": "ipython",
    "version": 3
   },
   "file_extension": ".py",
   "mimetype": "text/x-python",
   "name": "python",
   "nbconvert_exporter": "python",
   "pygments_lexer": "ipython3",
   "version": "3.8.10"
  }
 },
 "nbformat": 4,
 "nbformat_minor": 5
}
